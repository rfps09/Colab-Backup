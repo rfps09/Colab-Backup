{
  "nbformat": 4,
  "nbformat_minor": 0,
  "metadata": {
    "colab": {
      "provenance": [],
      "authorship_tag": "ABX9TyMSP/vEh2TryXngmVdra7lL",
      "include_colab_link": true
    },
    "kernelspec": {
      "name": "python3",
      "display_name": "Python 3"
    },
    "language_info": {
      "name": "python"
    }
  },
  "cells": [
    {
      "cell_type": "markdown",
      "metadata": {
        "id": "view-in-github",
        "colab_type": "text"
      },
      "source": [
        "<a href=\"https://colab.research.google.com/github/rfps09/Colab-Backup/blob/main/grafico.ipynb\" target=\"_parent\"><img src=\"https://colab.research.google.com/assets/colab-badge.svg\" alt=\"Open In Colab\"/></a>"
      ]
    },
    {
      "cell_type": "code",
      "execution_count": null,
      "metadata": {
        "colab": {
          "base_uri": "https://localhost:8080/",
          "height": 304
        },
        "id": "oFyF6G3pwkvd",
        "outputId": "bdf314f7-7bfc-46dc-c2e4-9993049a35e3"
      },
      "outputs": [
        {
          "output_type": "stream",
          "name": "stdout",
          "text": [
            "[0.     0.0016 0.0256 0.0196 0.0121]\n",
            "[0.     0.0484 0.0484 0.0049 0.0049]\n"
          ]
        },
        {
          "output_type": "display_data",
          "data": {
            "text/plain": [
              "<Figure size 432x288 with 1 Axes>"
            ],
            "image/png": "[encoded data removed]"
          },
          "metadata": {
            "needs_background": "light"
          }
        }
      ],
      "source": [
        "import numpy as np\n",
        "import matplotlib.pyplot as plt \n",
        "\n",
        "numEpocas = 80\n",
        "q = 4\n",
        "\n",
        "X1 = np.array([0,0,1,1])\n",
        "X2 = np.array([0,1,0,1])\n",
        "X = np.vstack((X1,X2))\n",
        "Y = np.array([0,1,1,1])\n",
        "Yd = np.zeros(4)\n",
        "W = np.array([0,1,-1])\n",
        "W = np.zeros(3)\n",
        "e = np.zeros(q)\n",
        "bias = 1\n",
        "eta = 0.3\n",
        "\n",
        "def draw_decision_boundary(a,b,c):\n",
        "    space = np.linspace(-10,10,100)\n",
        "\n",
        "    linear = space*(a / (-b) ) +  c/ (-b)\n",
        "\n",
        "    points_x_green = np.array([0.03,0.33,0.43,0.38,0.21,-0.14,-0.41,-0.48,-0.30])\n",
        "    points_y_green = np.array([0.58,0.44,0.12,-0.12,-0.32,-0.32,-0.13,0.20,0.51])\n",
        "\n",
        "    points_x_blue = np.array([0,0.04,-0.16,-0.14,0.11])\n",
        "    points_y_blue = np.array([0,0.22,0.22,-0.07,-0.07])\n",
        "\n",
        "    points_x_green = np.power(points_x_green,2)\n",
        "    points_y_green = np.power(points_y_green,2)\n",
        "\n",
        "    points_x_blue = np.power(points_x_blue,2)\n",
        "    points_y_blue = np.power(points_y_blue,2)\n",
        "\n",
        "    print(points_x_blue)\n",
        "    print(points_y_blue)\n",
        "\n",
        "    plt.xlim([-1,1])\n",
        "    plt.ylim([-1,1])\n",
        "    plt.plot(space,linear,'r')\n",
        "    plt.plot(points_x_green,points_y_green,'o',markerfacecolor=\"green\",markeredgecolor=\"green\")\n",
        "    plt.plot(points_x_blue,points_y_blue,'o',markerfacecolor=\"blue\",markeredgecolor=\"blue\")\n",
        "    plt.show()\n",
        "\n",
        "draw_decision_boundary(1,-1,100)"
      ]
    }
  ]
}