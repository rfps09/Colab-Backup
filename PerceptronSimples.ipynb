{
  "nbformat": 4,
  "nbformat_minor": 0,
  "metadata": {
    "colab": {
      "provenance": [],
      "authorship_tag": "ABX9TyOVDBTtNzItW0PcrYwNnS0W",
      "include_colab_link": true
    },
    "kernelspec": {
      "name": "python3",
      "display_name": "Python 3"
    },
    "language_info": {
      "name": "python"
    }
  },
  "cells": [
    {
      "cell_type": "markdown",
      "metadata": {
        "id": "view-in-github",
        "colab_type": "text"
      },
      "source": [
        "<a href=\"https://colab.research.google.com/github/rfps09/Colab-Backup/blob/main/PerceptronSimples.ipynb\" target=\"_parent\"><img src=\"https://colab.research.google.com/assets/colab-badge.svg\" alt=\"Open In Colab\"/></a>"
      ]
    },
    {
      "cell_type": "markdown",
      "source": [
        "Perceptron de camada simples para classificar maça e laranja por peso e ph"
      ],
      "metadata": {
        "id": "ZiGuG_duW4gd"
      }
    },
    {
      "cell_type": "markdown",
      "source": [
        "OBS: Apenas trocando a ordem de entrada na rede neural, de maneira com que entre toda os inputs de uma classe antes de entrar os inputs de outra. O número de épocas necessárias para o aprendizado cai em 24.505, aproximadamente 39%."
      ],
      "metadata": {
        "id": "HxitU-Avw7V1"
      }
    },
    {
      "cell_type": "code",
      "source": [
        "import numpy as np\n",
        "\n",
        "q=6\n",
        "numEpocas = 39220\n",
        "\n",
        "Peso = np.array([113,107,98,115,122,120])\n",
        "pH = np.array([6.8, 5.2, 3.6, 2.9, 4.7, 4.2])\n",
        "\n",
        "X = np.vstack((Peso,pH))\n",
        "Y = np.array([-1,-1,-1,1,1,1])\n",
        "\n",
        "bias = 1\n",
        "\n",
        "eta = 0.1\n",
        "\n",
        "W = np.zeros(3)\n",
        "\n",
        "e = np.zeros(q)\n",
        "\n",
        "def funcaoDeAtivicao(valor):\n",
        "    if valor < 0.0:\n",
        "        return -1\n",
        "    return 1\n",
        "\n",
        "for i in range(numEpocas):\n",
        "    for j in range(q):\n",
        "        Xb = np.hstack((bias,X[:,j]))\n",
        "        \n",
        "        V = np.dot(W, Xb)\n",
        "        \n",
        "        Yr = funcaoDeAtivicao(V)\n",
        "        \n",
        "        e[j] = Y[j] - Yr\n",
        "        \n",
        "        W = W + eta*e[j]*Xb\n",
        "    \n",
        "print(\"Vetor de erros (e) = \" + str(e))"
      ],
      "metadata": {
        "colab": {
          "base_uri": "https://localhost:8080/"
        },
        "id": "zZg-sphK2zr5",
        "outputId": "9f300d68-f067-4b8e-8753-0af2859e3e5b"
      },
      "execution_count": null,
      "outputs": [
        {
          "output_type": "stream",
          "name": "stdout",
          "text": [
            "Vetor de erros (e) = [0. 0. 0. 0. 0. 0.]\n"
          ]
        }
      ]
    },
    {
      "cell_type": "markdown",
      "source": [
        "Perceptron de camada simples para reproduzir a porta lógica NOT"
      ],
      "metadata": {
        "id": "FbbJ0Xe9XDQj"
      }
    },
    {
      "cell_type": "code",
      "execution_count": null,
      "metadata": {
        "colab": {
          "base_uri": "https://localhost:8080/"
        },
        "id": "nzRmkIhk0UtG",
        "outputId": "3daca37a-2dff-4a47-ef05-1f6a47670321"
      },
      "outputs": [
        {
          "output_type": "stream",
          "name": "stdout",
          "text": [
            "O vetor de pesos (W) + Bias = 0.0x + -0.1\n",
            "O vetor de erros (e) = [1. 0. 0.]\n"
          ]
        }
      ],
      "source": [
        "import numpy as np\n",
        "\n",
        "numEpocas = 6\n",
        "q = 3\n",
        "\n",
        "X = np.array([0,1,-1])\n",
        "Y = np.array([1,0,0])\n",
        "W = np.zeros(2)\n",
        "e = np.zeros(3)\n",
        "bias = 1\n",
        "eta = 0.1\n",
        "\n",
        "def funcaoDeAtivicao(valor):\n",
        "    if valor < 0.0:\n",
        "        return 0\n",
        "    return 1\n",
        "\n",
        "for j in range(numEpocas):\n",
        "  for i in range(q):\n",
        "    Xb = np.hstack((bias,X[i]))\n",
        "    V = np.dot(W,Xb)\n",
        "    Yr = funcaoDeAtivicao(V)\n",
        "    e[i] = Y[i] - Yr\n",
        "    W = W + eta*e[i]*Xb\n",
        "  \n",
        "print(\"O vetor de pesos (W) + Bias = \" + str(W[1]) + \"x + \" + str(bias*W[0]))\n",
        "print(\"O vetor de erros (e) = \" + str(e))"
      ]
    },
    {
      "cell_type": "markdown",
      "source": [
        "Perceptron de camada simples para reproduzir a porta lógica OR"
      ],
      "metadata": {
        "id": "UCZ3j4fhXQWU"
      }
    },
    {
      "cell_type": "code",
      "source": [
        "import numpy as np\n",
        "\n",
        "numEpocas = 4\n",
        "q = 4\n",
        "\n",
        "X1 = np.array([0,0,1,1])\n",
        "X2 = np.array([0,1,0,1])\n",
        "X = np.vstack((X1,X2))\n",
        "Y = np.array([0,1,1,1])\n",
        "W = np.zeros(3)\n",
        "e = np.zeros(q)\n",
        "bias = 1\n",
        "eta = 0.1\n",
        "\n",
        "def funcaoDeAtivicao(valor):\n",
        "    if valor < 0.0:\n",
        "        return 0\n",
        "    return 1\n",
        "\n",
        "for j in range(numEpocas):\n",
        "    for i in range(q):\n",
        "        Xb = np.hstack((bias, X[:,i]))\n",
        "        V = np.dot(W,Xb)\n",
        "        Yr = funcaoDeAtivicao(V)\n",
        "        e[i] = Y[i] - Yr\n",
        "        W = W + eta*e[i]*Xb\n",
        "        print(W)\n",
        "\n",
        "print(\"O vetor de erros (e) = \" + str(e))\n"
      ],
      "metadata": {
        "colab": {
          "base_uri": "https://localhost:8080/"
        },
        "id": "2PFzd2so23hq",
        "outputId": "f1978592-03a6-43d4-9e7f-98fad0af4af0"
      },
      "execution_count": null,
      "outputs": [
        {
          "output_type": "stream",
          "name": "stdout",
          "text": [
            "[-0.1  0.   0. ]\n",
            "[0.  0.  0.1]\n",
            "[0.  0.  0.1]\n",
            "[0.  0.  0.1]\n",
            "[-0.1  0.   0.1]\n",
            "[-0.1  0.   0.1]\n",
            "[0.  0.1 0.1]\n",
            "[0.  0.1 0.1]\n",
            "[-0.1  0.1  0.1]\n",
            "[-0.1  0.1  0.1]\n",
            "[-0.1  0.1  0.1]\n",
            "[-0.1  0.1  0.1]\n",
            "[-0.1  0.1  0.1]\n",
            "[-0.1  0.1  0.1]\n",
            "[-0.1  0.1  0.1]\n",
            "[-0.1  0.1  0.1]\n",
            "O vetor de erros (e) = [0. 0. 0. 0.]\n"
          ]
        }
      ]
    },
    {
      "cell_type": "markdown",
      "source": [
        "Perceptron de camada simples para reproduzir a porta lógica AND"
      ],
      "metadata": {
        "id": "QlfYofHsXY3w"
      }
    },
    {
      "cell_type": "code",
      "source": [
        "import numpy as np\n",
        "\n",
        "numEpocas = 6\n",
        "q = 4\n",
        "\n",
        "X1 = np.array([0,0,1,1])\n",
        "X2 = np.array([0,1,0,1])\n",
        "X = np.vstack((X1,X2))\n",
        "Y = np.array([0,0,0,1])\n",
        "W = np.zeros(3)\n",
        "bias = 1\n",
        "eta = 0.1\n",
        "e = np.zeros(q)\n",
        "\n",
        "for j in range(numEpocas):\n",
        "    for i in range(q):\n",
        "        Xb = np.hstack((bias, X[:,i]))\n",
        "        V = np.dot(W, Xb)\n",
        "        Yr = np.heaviside(V,0)\n",
        "        e[i] = Y[i]-Yr\n",
        "        W = W + eta*e[i]*Xb\n",
        "        \n",
        "print(\"O vetor de erros (e) = \" + str(e))\n",
        "print(str(W))"
      ],
      "metadata": {
        "colab": {
          "base_uri": "https://localhost:8080/"
        },
        "id": "dx6mYVke3BVO",
        "outputId": "fb06d3c6-86d8-4210-8efe-ac78d70e928f"
      },
      "execution_count": null,
      "outputs": [
        {
          "output_type": "stream",
          "name": "stdout",
          "text": [
            "O vetor de erros (e) = [0. 0. 0. 0.]\n",
            "[-0.2  0.2  0.1]\n"
          ]
        }
      ]
    },
    {
      "cell_type": "markdown",
      "source": [
        "Perceptron de camada simples para classificar duas classes com distribuição gaussiana. Valores médios μ1 = -10, μ2 = 10 e variancias iguais e unitárias σ = 1"
      ],
      "metadata": {
        "id": "QRYWF9H7XeUA"
      }
    },
    {
      "cell_type": "code",
      "source": [
        "import numpy as np\n",
        "\n",
        "def unison_shuffled_copies(a, b):\n",
        "    assert len(a) == len(b)\n",
        "    p = np.random.permutation(len(a))\n",
        "    return a[p], b[p]\n",
        "\n",
        "numEpocas = 2\n",
        "q = 50\n",
        "\n",
        "X1 = np.random.normal(10,1,q)\n",
        "X2 = np.random.normal(-10,1,q)\n",
        "X = np.hstack((X1,X2))\n",
        "Y = np.array([1,-1])\n",
        "Y = np.repeat(Y,q)\n",
        "\n",
        "X,Y = unison_shuffled_copies(X,Y)\n",
        "\n",
        "print(str(X))\n",
        "\n",
        "W = np.zeros(2)\n",
        "e = np.ones(q*2)\n",
        "bias = 1\n",
        "eta = 0.1\n",
        "\n",
        "for j in range(numEpocas):\n",
        "  for i in range(q*2):\n",
        "    Xb = np.hstack((bias,X[i]))\n",
        "    V = np.dot(W,Xb)\n",
        "    Yr = np.sign(V)\n",
        "    e[i] = Y[i] - Yr\n",
        "    W = W + eta*e[i]*Xb\n",
        "\n",
        "print(\"O vetor de erros (e) = \" + str(e))"
      ],
      "metadata": {
        "colab": {
          "base_uri": "https://localhost:8080/"
        },
        "id": "P_iHWjlmCbJM",
        "outputId": "d708f794-a7cc-4c99-8209-071b0eb56176"
      },
      "execution_count": null,
      "outputs": [
        {
          "output_type": "stream",
          "name": "stdout",
          "text": [
            "[  9.21406812  10.80146101  -8.34471714  10.14747848  11.18710504\n",
            " -12.35153113  -9.25683184 -10.48167619 -11.43933734  10.43624258\n",
            "   9.26819676  11.73447816  -9.12932838 -11.24652239 -10.81117142\n",
            "   9.68603058 -10.45920735  -8.47369471  10.50907303   9.71980701\n",
            " -10.4741603    8.28388261  11.1288355   11.66486484   8.31679382\n",
            " -12.32368934  -9.49768785 -10.35851576  10.54113854 -10.29388511\n",
            "  -9.96900053  -9.4662577   10.13171636 -11.57051684  10.77169599\n",
            "  10.37166157 -10.75967885  -9.32318102  10.58189281  -9.8564549\n",
            "   8.46435699 -10.28053841  -8.89064824  12.22579723  -8.99851042\n",
            "  -9.60388523  11.45340678  10.25405041   9.39349948 -10.10496122\n",
            " -11.07000772 -10.25039333   8.96208373  11.01390683   8.24498418\n",
            " -10.96893379   8.48371749   9.4451784    9.87004393  10.42758492\n",
            "   9.84451074   9.99070754   9.81619246   9.97006312  11.57211701\n",
            " -11.66395387  -8.99049995  11.27768488 -10.17960973  11.04819917\n",
            "   8.14405757  -8.8711544   -9.86767303   7.8290924  -10.69973325\n",
            "  11.11390515   9.30915223  11.62345439 -10.6617813   -9.50653483\n",
            " -10.95912607 -10.33032027 -10.19325855  -9.34879105 -10.65904255\n",
            "   9.85967114  10.63689073  -8.94713415  -9.72739691   9.84915444\n",
            " -11.3101764   -8.75319293 -11.09072441 -10.14056455   9.91416312\n",
            "  -9.46519498   9.72729294   8.70302775   9.98292528  -9.29233627]\n",
            "O vetor de erros (e) = [0. 0. 0. 0. 0. 0. 0. 0. 0. 0. 0. 0. 0. 0. 0. 0. 0. 0. 0. 0. 0. 0. 0. 0.\n",
            " 0. 0. 0. 0. 0. 0. 0. 0. 0. 0. 0. 0. 0. 0. 0. 0. 0. 0. 0. 0. 0. 0. 0. 0.\n",
            " 0. 0. 0. 0. 0. 0. 0. 0. 0. 0. 0. 0. 0. 0. 0. 0. 0. 0. 0. 0. 0. 0. 0. 0.\n",
            " 0. 0. 0. 0. 0. 0. 0. 0. 0. 0. 0. 0. 0. 0. 0. 0. 0. 0. 0. 0. 0. 0. 0. 0.\n",
            " 0. 0. 0. 0.]\n"
          ]
        }
      ]
    },
    {
      "cell_type": "markdown",
      "source": [
        "Tentativa de usar rede perceptron de um neurônio para aprender a porta lógica XOR"
      ],
      "metadata": {
        "id": "G_9X8-2N48hi"
      }
    },
    {
      "cell_type": "code",
      "source": [
        "import numpy as np\n",
        "\n",
        "numEpocas = 10000\n",
        "q = 4\n",
        "\n",
        "X1 = np.array([0,0,1,1])\n",
        "X2 = np.array([0,1,0,1])\n",
        "X = np.vstack((X1,X2))\n",
        "Y = np.array([0,1,1,0])\n",
        "W = np.zeros(3)\n",
        "e = np.zeros(q)\n",
        "bias = 1\n",
        "eta = 0.1\n",
        "\n",
        "def funcaoDeAtivacao(value):\n",
        "  if(value < 0.0):\n",
        "    return 0\n",
        "  return value\n",
        "\n",
        "for j in range(numEpocas):\n",
        "  for i in range(q):\n",
        "    Xb = np.hstack((bias,X[:,i]))\n",
        "    V = np.dot(W,Xb)\n",
        "    Yr = np.heaviside(V,0)\n",
        "    e[i] = Y[i] - Yr\n",
        "    W = W + eta*e[i]*Xb\n",
        "\n",
        "print(str(e))"
      ],
      "metadata": {
        "colab": {
          "base_uri": "https://localhost:8080/"
        },
        "id": "0dUoxcJP5EtH",
        "outputId": "76ba22a5-090d-4ed9-b751-4b5f924fa403"
      },
      "execution_count": null,
      "outputs": [
        {
          "output_type": "stream",
          "name": "stdout",
          "text": [
            "[-1.  1.  1. -1.]\n"
          ]
        }
      ]
    },
    {
      "cell_type": "markdown",
      "source": [
        "-matriz de confusao\n",
        "\n",
        "-acuracia\n",
        "\n",
        "-f1 score\n",
        "\n",
        "-precisao\n",
        "\n",
        "-recall"
      ],
      "metadata": {
        "id": "scNTNlHpuwVY"
      }
    }
  ]
}