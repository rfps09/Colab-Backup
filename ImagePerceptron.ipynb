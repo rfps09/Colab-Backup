{
  "nbformat": 4,
  "nbformat_minor": 0,
  "metadata": {
    "colab": {
      "provenance": [],
      "mount_file_id": "1FS6DHZ6w45hfa34h04ceM6rHMYeNwI65",
      "authorship_tag": "ABX9TyNzgE42yefroOlj+yB34JzC",
      "include_colab_link": true
    },
    "kernelspec": {
      "name": "python3",
      "display_name": "Python 3"
    },
    "language_info": {
      "name": "python"
    }
  },
  "cells": [
    {
      "cell_type": "markdown",
      "metadata": {
        "id": "view-in-github",
        "colab_type": "text"
      },
      "source": [
        "<a href=\"https://colab.research.google.com/github/rfps09/Colab-Backup/blob/main/ImagePerceptron.ipynb\" target=\"_parent\"><img src=\"https://colab.research.google.com/assets/colab-badge.svg\" alt=\"Open In Colab\"/></a>"
      ]
    },
    {
      "cell_type": "code",
      "execution_count": null,
      "metadata": {
        "id": "8UgDilkLfVOS",
        "colab": {
          "base_uri": "https://localhost:8080/"
        },
        "outputId": "37a66b1d-5285-487f-f680-7ff874c04533"
      },
      "outputs": [
        {
          "output_type": "stream",
          "name": "stdout",
          "text": [
            "['cats', 'dogs']\n"
          ]
        }
      ],
      "source": [
        "import os\n",
        "\n",
        "path = 'drive/MyDrive/TensorFlow/DataSets/DogsAndCats/'\n",
        "path_train = path+'train/'\n",
        "path_test = path+'test/'\n",
        "classes = os.listdir(path_train)\n",
        "\n",
        "print(classes)"
      ]
    },
    {
      "cell_type": "code",
      "source": [
        "import cv2\n",
        "import numpy as np\n",
        "\n",
        "imagens_treino = []\n",
        "labels_treino = []\n",
        "\n",
        "imagens_teste = []\n",
        "labels_teste = []\n",
        "for classe in classes:\n",
        "  data_path = path_train+classe+'/'\n",
        "  imgs_paths = [data_path+i for i in os.listdir(data_path)]\n",
        "  \n",
        "  for img_path in imgs_paths:\n",
        "    img = cv2.imread(img_path)\n",
        "    img = cv2.resize(img, (100,100), interpolation = cv2.INTER_AREA)\n",
        "    imagens_treino.append(img)\n",
        "    labels_treino.append(classe)\n",
        "\n",
        "  data_path = path_test+classe+'/'\n",
        "  imgs_paths = [data_path+i for i in os.listdir(data_path)]\n",
        "  \n",
        "  for img_path in imgs_paths:\n",
        "    img = cv2.imread(img_path)\n",
        "    img = cv2.resize(img, (100,100), interpolation = cv2.INTER_AREA)\n",
        "    img = img/255.0\n",
        "    imagens_teste.append(img)\n",
        "    labels_teste.append(classe)\n",
        "\n",
        "imagens_treino = np.array(imagens_treino)\n",
        "labels_treino = np.array(labels_treino)\n",
        "\n",
        "imagens_teste = np.array(imagens_teste)\n",
        "labels_teste = np.array(labels_teste)\n",
        "\n",
        "print(imagens_treino.shape)"
      ],
      "metadata": {
        "colab": {
          "base_uri": "https://localhost:8080/"
        },
        "id": "dEGf_ITNEPn4",
        "outputId": "9f0a8b41-3005-48df-ec8b-4c473152975e"
      },
      "execution_count": null,
      "outputs": [
        {
          "output_type": "stream",
          "name": "stdout",
          "text": [
            "(557, 100, 100, 3)\n"
          ]
        }
      ]
    },
    {
      "cell_type": "code",
      "source": [
        "from sklearn.preprocessing import LabelEncoder\n",
        "\n",
        "labels_treino = LabelEncoder().fit_transform(labels_treino)\n",
        "labels_treino = labels_treino.astype(int)\n",
        "\n",
        "labels_teste = LabelEncoder().fit_transform(labels_teste)\n",
        "labels_teste = labels_teste.astype(int)"
      ],
      "metadata": {
        "id": "sc7u2XH0YjoT"
      },
      "execution_count": null,
      "outputs": []
    },
    {
      "cell_type": "code",
      "source": [
        "from sklearn.utils import shuffle\n",
        "\n",
        "imagens_treino,labels_treino = shuffle(imagens_treino,labels_treino, random_state = 0)\n",
        "print(labels_treino)\n",
        "\n",
        "imagens_teste,labels_teste = shuffle(imagens_teste,labels_teste, random_state = 0)"
      ],
      "metadata": {
        "id": "1hxmHMr-Zr1T"
      },
      "execution_count": null,
      "outputs": []
    },
    {
      "cell_type": "code",
      "source": [
        "from tensorflow.keras.models import Sequential\n",
        "from tensorflow.keras.layers import Dense\n",
        "from tensorflow.keras.layers import Flatten\n",
        "\n",
        "funcao_ativacao = 'tanh'\n",
        "\n",
        "model = Sequential()\n",
        "model.add(Flatten(input_shape=(100,100,3)))\n",
        "model.add(Dense(300,activation=funcao_ativacao))\n",
        "model.add(Dense(300,activation=funcao_ativacao))\n",
        "model.add(Dense(1,activation='sigmoid'))\n",
        "model.compile(loss=\"binary_crossentropy\", optimizer='Adam', metrics=['accuracy'])\n",
        "\n",
        "model.fit(imagens_treino,labels_treino,epochs=100)"
      ],
      "metadata": {
        "colab": {
          "base_uri": "https://localhost:8080/"
        },
        "id": "_B7aC5X1ah4a",
        "outputId": "eef7679d-e1e1-49e9-a61f-a067d34a71ac"
      },
      "execution_count": null,
      "outputs": [
        {
          "output_type": "stream",
          "name": "stdout",
          "text": [
            "Epoch 1/100\n",
            "18/18 [==============================] - 1s 58ms/step - loss: 0.7665 - accuracy: 0.5350\n",
            "Epoch 2/100\n",
            "18/18 [==============================] - 1s 56ms/step - loss: 0.7621 - accuracy: 0.4919\n",
            "Epoch 3/100\n",
            "18/18 [==============================] - 1s 57ms/step - loss: 0.7110 - accuracy: 0.5045\n",
            "Epoch 4/100\n",
            "18/18 [==============================] - 1s 57ms/step - loss: 0.7095 - accuracy: 0.4811\n",
            "Epoch 5/100\n",
            "18/18 [==============================] - 1s 56ms/step - loss: 0.7045 - accuracy: 0.5045\n",
            "Epoch 6/100\n",
            "18/18 [==============================] - 1s 56ms/step - loss: 0.7098 - accuracy: 0.5027\n",
            "Epoch 7/100\n",
            "18/18 [==============================] - 1s 55ms/step - loss: 0.7033 - accuracy: 0.5027\n",
            "Epoch 8/100\n",
            "18/18 [==============================] - 1s 56ms/step - loss: 0.7011 - accuracy: 0.4991\n",
            "Epoch 9/100\n",
            "18/18 [==============================] - 1s 57ms/step - loss: 0.6999 - accuracy: 0.5153\n",
            "Epoch 10/100\n",
            "18/18 [==============================] - 2s 84ms/step - loss: 0.6998 - accuracy: 0.4919\n",
            "Epoch 11/100\n",
            "18/18 [==============================] - 2s 99ms/step - loss: 0.6982 - accuracy: 0.4937\n",
            "Epoch 12/100\n",
            "18/18 [==============================] - 1s 78ms/step - loss: 0.7149 - accuracy: 0.5350\n",
            "Epoch 13/100\n",
            "18/18 [==============================] - 1s 56ms/step - loss: 0.6988 - accuracy: 0.4847\n",
            "Epoch 14/100\n",
            "18/18 [==============================] - 1s 56ms/step - loss: 0.7083 - accuracy: 0.4758\n",
            "Epoch 15/100\n",
            "18/18 [==============================] - 1s 56ms/step - loss: 0.7012 - accuracy: 0.4847\n",
            "Epoch 16/100\n",
            "18/18 [==============================] - 1s 56ms/step - loss: 0.6968 - accuracy: 0.4937\n",
            "Epoch 17/100\n",
            "18/18 [==============================] - 1s 56ms/step - loss: 0.6967 - accuracy: 0.4776\n",
            "Epoch 18/100\n",
            "18/18 [==============================] - 1s 56ms/step - loss: 0.6946 - accuracy: 0.5081\n",
            "Epoch 19/100\n",
            "18/18 [==============================] - 1s 55ms/step - loss: 0.6955 - accuracy: 0.5242\n",
            "Epoch 20/100\n",
            "18/18 [==============================] - 1s 56ms/step - loss: 0.7085 - accuracy: 0.4955\n",
            "Epoch 21/100\n",
            "18/18 [==============================] - 1s 56ms/step - loss: 0.6976 - accuracy: 0.5171\n",
            "Epoch 22/100\n",
            "18/18 [==============================] - 1s 56ms/step - loss: 0.6998 - accuracy: 0.5027\n",
            "Epoch 23/100\n",
            "18/18 [==============================] - 1s 56ms/step - loss: 0.6962 - accuracy: 0.4883\n",
            "Epoch 24/100\n",
            "18/18 [==============================] - 1s 56ms/step - loss: 0.6944 - accuracy: 0.5153\n",
            "Epoch 25/100\n",
            "18/18 [==============================] - 1s 55ms/step - loss: 0.7043 - accuracy: 0.4740\n",
            "Epoch 26/100\n",
            "18/18 [==============================] - 1s 58ms/step - loss: 0.6954 - accuracy: 0.4901\n",
            "Epoch 27/100\n",
            "18/18 [==============================] - 1s 57ms/step - loss: 0.6921 - accuracy: 0.5206\n",
            "Epoch 28/100\n",
            "18/18 [==============================] - 1s 56ms/step - loss: 0.7047 - accuracy: 0.4865\n",
            "Epoch 29/100\n",
            "18/18 [==============================] - 1s 56ms/step - loss: 0.6951 - accuracy: 0.5135\n",
            "Epoch 30/100\n",
            "18/18 [==============================] - 1s 56ms/step - loss: 0.7128 - accuracy: 0.4937\n",
            "Epoch 31/100\n",
            "18/18 [==============================] - 1s 56ms/step - loss: 0.7144 - accuracy: 0.4776\n",
            "Epoch 32/100\n",
            "18/18 [==============================] - 1s 55ms/step - loss: 0.6949 - accuracy: 0.5081\n",
            "Epoch 33/100\n",
            "18/18 [==============================] - 1s 55ms/step - loss: 0.7053 - accuracy: 0.4434\n",
            "Epoch 34/100\n",
            "18/18 [==============================] - 1s 56ms/step - loss: 0.7007 - accuracy: 0.4811\n",
            "Epoch 35/100\n",
            "18/18 [==============================] - 1s 56ms/step - loss: 0.7000 - accuracy: 0.4973\n",
            "Epoch 36/100\n",
            "18/18 [==============================] - 1s 55ms/step - loss: 0.6962 - accuracy: 0.5027\n",
            "Epoch 37/100\n",
            "18/18 [==============================] - 1s 56ms/step - loss: 0.6985 - accuracy: 0.5117\n",
            "Epoch 38/100\n",
            "18/18 [==============================] - 1s 55ms/step - loss: 0.6959 - accuracy: 0.5081\n",
            "Epoch 39/100\n",
            "18/18 [==============================] - 1s 55ms/step - loss: 0.6965 - accuracy: 0.4973\n",
            "Epoch 40/100\n",
            "18/18 [==============================] - 1s 56ms/step - loss: 0.6990 - accuracy: 0.4722\n",
            "Epoch 41/100\n",
            "18/18 [==============================] - 1s 55ms/step - loss: 0.6967 - accuracy: 0.4865\n",
            "Epoch 42/100\n",
            "18/18 [==============================] - 1s 55ms/step - loss: 0.6955 - accuracy: 0.5009\n",
            "Epoch 43/100\n",
            "18/18 [==============================] - 1s 56ms/step - loss: 0.6952 - accuracy: 0.5081\n",
            "Epoch 44/100\n",
            "18/18 [==============================] - 1s 56ms/step - loss: 0.7050 - accuracy: 0.4776\n",
            "Epoch 45/100\n",
            "18/18 [==============================] - 1s 57ms/step - loss: 0.6959 - accuracy: 0.5153\n",
            "Epoch 46/100\n",
            "18/18 [==============================] - 1s 56ms/step - loss: 0.6990 - accuracy: 0.4901\n",
            "Epoch 47/100\n",
            "18/18 [==============================] - 1s 56ms/step - loss: 0.6947 - accuracy: 0.5045\n",
            "Epoch 48/100\n",
            "18/18 [==============================] - 1s 56ms/step - loss: 0.6992 - accuracy: 0.4740\n",
            "Epoch 49/100\n",
            "18/18 [==============================] - 1s 56ms/step - loss: 0.6939 - accuracy: 0.4919\n",
            "Epoch 50/100\n",
            "18/18 [==============================] - 1s 56ms/step - loss: 0.6976 - accuracy: 0.4811\n",
            "Epoch 51/100\n",
            "18/18 [==============================] - 1s 56ms/step - loss: 0.6961 - accuracy: 0.4811\n",
            "Epoch 52/100\n",
            "18/18 [==============================] - 1s 56ms/step - loss: 0.7038 - accuracy: 0.5081\n",
            "Epoch 53/100\n",
            "18/18 [==============================] - 1s 57ms/step - loss: 0.6955 - accuracy: 0.4794\n",
            "Epoch 54/100\n",
            "18/18 [==============================] - 1s 56ms/step - loss: 0.6950 - accuracy: 0.5171\n",
            "Epoch 55/100\n",
            "18/18 [==============================] - 1s 56ms/step - loss: 0.7098 - accuracy: 0.4937\n",
            "Epoch 56/100\n",
            "18/18 [==============================] - 1s 60ms/step - loss: 0.7017 - accuracy: 0.5045\n",
            "Epoch 57/100\n",
            "18/18 [==============================] - 1s 56ms/step - loss: 0.6964 - accuracy: 0.5153\n",
            "Epoch 58/100\n",
            "18/18 [==============================] - 1s 57ms/step - loss: 0.6958 - accuracy: 0.4955\n",
            "Epoch 59/100\n",
            "18/18 [==============================] - 1s 56ms/step - loss: 0.6958 - accuracy: 0.4919\n",
            "Epoch 60/100\n",
            "18/18 [==============================] - 1s 57ms/step - loss: 0.6960 - accuracy: 0.4811\n",
            "Epoch 61/100\n",
            "18/18 [==============================] - 1s 56ms/step - loss: 0.6965 - accuracy: 0.4758\n",
            "Epoch 62/100\n",
            "18/18 [==============================] - 1s 57ms/step - loss: 0.6938 - accuracy: 0.5135\n",
            "Epoch 63/100\n",
            "18/18 [==============================] - 1s 56ms/step - loss: 0.6992 - accuracy: 0.4955\n",
            "Epoch 64/100\n",
            "18/18 [==============================] - 1s 57ms/step - loss: 0.6945 - accuracy: 0.4973\n",
            "Epoch 65/100\n",
            "18/18 [==============================] - 1s 57ms/step - loss: 0.6987 - accuracy: 0.4865\n",
            "Epoch 66/100\n",
            "18/18 [==============================] - 1s 56ms/step - loss: 0.6941 - accuracy: 0.4973\n",
            "Epoch 67/100\n",
            "18/18 [==============================] - 1s 57ms/step - loss: 0.6911 - accuracy: 0.5296\n",
            "Epoch 68/100\n",
            "18/18 [==============================] - 1s 57ms/step - loss: 0.7298 - accuracy: 0.4811\n",
            "Epoch 69/100\n",
            "18/18 [==============================] - 1s 56ms/step - loss: 0.7264 - accuracy: 0.4955\n",
            "Epoch 70/100\n",
            "18/18 [==============================] - 1s 55ms/step - loss: 0.7152 - accuracy: 0.4973\n",
            "Epoch 71/100\n",
            "18/18 [==============================] - 1s 56ms/step - loss: 0.7005 - accuracy: 0.5153\n",
            "Epoch 72/100\n",
            "18/18 [==============================] - 1s 56ms/step - loss: 0.6950 - accuracy: 0.4596\n",
            "Epoch 73/100\n",
            "18/18 [==============================] - 1s 57ms/step - loss: 0.6943 - accuracy: 0.4865\n",
            "Epoch 74/100\n",
            "18/18 [==============================] - 1s 57ms/step - loss: 0.6959 - accuracy: 0.5314\n",
            "Epoch 75/100\n",
            "18/18 [==============================] - 1s 56ms/step - loss: 0.7077 - accuracy: 0.4865\n",
            "Epoch 76/100\n",
            "18/18 [==============================] - 1s 57ms/step - loss: 0.6982 - accuracy: 0.4955\n",
            "Epoch 77/100\n",
            "18/18 [==============================] - 1s 57ms/step - loss: 0.6940 - accuracy: 0.5224\n",
            "Epoch 78/100\n",
            "18/18 [==============================] - 1s 57ms/step - loss: 0.6991 - accuracy: 0.4991\n",
            "Epoch 79/100\n",
            "18/18 [==============================] - 1s 57ms/step - loss: 0.6942 - accuracy: 0.4847\n",
            "Epoch 80/100\n",
            "18/18 [==============================] - 1s 56ms/step - loss: 0.6957 - accuracy: 0.4955\n",
            "Epoch 81/100\n",
            "18/18 [==============================] - 1s 57ms/step - loss: 0.6956 - accuracy: 0.5009\n",
            "Epoch 82/100\n",
            "18/18 [==============================] - 1s 56ms/step - loss: 0.6987 - accuracy: 0.5081\n",
            "Epoch 83/100\n",
            "18/18 [==============================] - 1s 57ms/step - loss: 0.6973 - accuracy: 0.5206\n",
            "Epoch 84/100\n",
            "18/18 [==============================] - 1s 56ms/step - loss: 0.7148 - accuracy: 0.4829\n",
            "Epoch 85/100\n",
            "18/18 [==============================] - 1s 57ms/step - loss: 0.6959 - accuracy: 0.4991\n",
            "Epoch 86/100\n",
            "18/18 [==============================] - 1s 57ms/step - loss: 0.6977 - accuracy: 0.5009\n",
            "Epoch 87/100\n",
            "18/18 [==============================] - 1s 56ms/step - loss: 0.6971 - accuracy: 0.4955\n",
            "Epoch 88/100\n",
            "18/18 [==============================] - 1s 56ms/step - loss: 0.6969 - accuracy: 0.4847\n",
            "Epoch 89/100\n",
            "18/18 [==============================] - 1s 56ms/step - loss: 0.6935 - accuracy: 0.5224\n",
            "Epoch 90/100\n",
            "18/18 [==============================] - 1s 57ms/step - loss: 0.6999 - accuracy: 0.4991\n",
            "Epoch 91/100\n",
            "18/18 [==============================] - 1s 57ms/step - loss: 0.7056 - accuracy: 0.4560\n",
            "Epoch 92/100\n",
            "18/18 [==============================] - 1s 57ms/step - loss: 0.7065 - accuracy: 0.4973\n",
            "Epoch 93/100\n",
            "18/18 [==============================] - 1s 57ms/step - loss: 0.7054 - accuracy: 0.5063\n",
            "Epoch 94/100\n",
            "18/18 [==============================] - 1s 57ms/step - loss: 0.6971 - accuracy: 0.5045\n",
            "Epoch 95/100\n",
            "18/18 [==============================] - 1s 57ms/step - loss: 0.6939 - accuracy: 0.5027\n",
            "Epoch 96/100\n",
            "18/18 [==============================] - 1s 56ms/step - loss: 0.7063 - accuracy: 0.4776\n",
            "Epoch 97/100\n",
            "18/18 [==============================] - 1s 58ms/step - loss: 0.7119 - accuracy: 0.4794\n",
            "Epoch 98/100\n",
            "18/18 [==============================] - 1s 57ms/step - loss: 0.7063 - accuracy: 0.4937\n",
            "Epoch 99/100\n",
            "18/18 [==============================] - 1s 56ms/step - loss: 0.7003 - accuracy: 0.4632\n",
            "Epoch 100/100\n",
            "18/18 [==============================] - 1s 58ms/step - loss: 0.6957 - accuracy: 0.4973\n"
          ]
        },
        {
          "output_type": "execute_result",
          "data": {
            "text/plain": [
              "<keras.callbacks.History at 0x7fed2ba0a0d0>"
            ]
          },
          "metadata": {},
          "execution_count": 38
        }
      ]
    },
    {
      "cell_type": "code",
      "source": [
        "labels_pred = model.predict(imagens_teste)\n",
        "\n",
        "labels_pred = np.reshape(labels_pred,-1)\n",
        "labels_pred = np.rint(labels_pred)\n",
        "labels_pred = labels_pred.astype(int)"
      ],
      "metadata": {
        "colab": {
          "base_uri": "https://localhost:8080/"
        },
        "id": "cTM2lA_5fuH8",
        "outputId": "a4a321ef-5ddb-46e1-946c-6e04fb1cabfd"
      },
      "execution_count": null,
      "outputs": [
        {
          "output_type": "stream",
          "name": "stdout",
          "text": [
            "5/5 [==============================] - 0s 16ms/step\n"
          ]
        }
      ]
    },
    {
      "cell_type": "code",
      "source": [
        "from sklearn.metrics import classification_report\n",
        "\n",
        "print(classification_report(labels_teste, labels_pred,zero_division=1))"
      ],
      "metadata": {
        "colab": {
          "base_uri": "https://localhost:8080/"
        },
        "id": "VnrAtZZo960J",
        "outputId": "209b9216-cdc5-4f60-f771-878c2266f9fe"
      },
      "execution_count": null,
      "outputs": [
        {
          "output_type": "stream",
          "name": "stdout",
          "text": [
            "              precision    recall  f1-score   support\n",
            "\n",
            "           0       0.50      1.00      0.67        70\n",
            "           1       1.00      0.00      0.00        70\n",
            "\n",
            "    accuracy                           0.50       140\n",
            "   macro avg       0.75      0.50      0.33       140\n",
            "weighted avg       0.75      0.50      0.33       140\n",
            "\n"
          ]
        }
      ]
    }
  ]
}