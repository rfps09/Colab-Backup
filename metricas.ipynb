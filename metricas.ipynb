{
  "nbformat": 4,
  "nbformat_minor": 0,
  "metadata": {
    "colab": {
      "provenance": [],
      "authorship_tag": "ABX9TyPO9mRUU+cliD+1XlC0Ht00",
      "include_colab_link": true
    },
    "kernelspec": {
      "name": "python3",
      "display_name": "Python 3"
    },
    "language_info": {
      "name": "python"
    }
  },
  "cells": [
    {
      "cell_type": "markdown",
      "metadata": {
        "id": "view-in-github",
        "colab_type": "text"
      },
      "source": [
        "<a href=\"https://colab.research.google.com/github/rfps09/Colab-Backup/blob/main/metricas.ipynb\" target=\"_parent\"><img src=\"https://colab.research.google.com/assets/colab-badge.svg\" alt=\"Open In Colab\"/></a>"
      ]
    },
    {
      "cell_type": "code",
      "execution_count": null,
      "metadata": {
        "id": "nAgiLNWuz8tu"
      },
      "outputs": [],
      "source": [
        " #Matriz de confusão já com 3 classes:\n",
        "from sklearn.metrics import confusion_matrix\n",
        "from sklearn.metrics import multilabel_confusion_matrix\n",
        "import numpy as np\n",
        "\n",
        "matriz_confusao = confusion_matrix(lista_classes_originais_3, lista_classes_preditas_3, labels=[0,1,2])\n",
        "print(matriz_confusao)\n"
      ]
    },
    {
      "cell_type": "code",
      "source": [
        "#https://medium.com/data-hackers/entendendo-o-que-%C3%A9-matriz-de-confus%C3%A3o-com-python-114e683ec509\n",
        "#https://vitalflux.com/accuracy-precision-recall-f1-score-python-example/\n",
        "from sklearn.metrics import precision_score, recall_score, f1_score, accuracy_score\n",
        "from sklearn.metrics import precision_recall_fscore_support\n",
        "from sklearn.metrics import classification_report\n",
        "\n",
        "print('Precision or positive predictive: %.3f' % precision_score(lista_classes_preditas_3, lista_classes_originais_3,average='weighted',zero_division=1))\n",
        "print('Recall or Sensitivity: %.3f' % recall_score(lista_classes_preditas_3, lista_classes_originais_3,average='weighted',zero_division=1))\n",
        "print('Accuracy: %.3f' % accuracy_score(lista_classes_preditas_3, lista_classes_originais_3))\n",
        "print('F1 Score: %.3f' % f1_score(lista_classes_preditas_3, lista_classes_originais_3,average='weighted',zero_division=1))\n",
        "print('Precision Recall F1-Score Support for each class:')\n",
        "#print(precision_recall_fscore_support(lista_classes_originais, lista_classes_preditas,average='weighted',labels=[0,1,2,3]))\n",
        "precision, recall, fscore, support = precision_recall_fscore_support(lista_classes_originais_3, lista_classes_preditas_3,\n",
        "    zero_division=1)\n",
        "print('precision or positive predictive: {}'.format(precision))\n",
        "print('recall or sensitivity: {}'.format(recall))\n",
        "print('fscore: {}'.format(fscore))\n",
        "print('support: {}'.format(support))\n",
        "\n",
        "#The diagonal entries are the accuracies of each class\n",
        "matriz_confusao = matriz_confusao.astype('float') / matriz_confusao.sum(axis=1)[:, np.newaxis]\n",
        "acuracia_classes = matriz_confusao.diagonal()\n",
        "print('Accuracy for each class:')\n",
        "print(acuracia_classes)\n",
        "\n",
        "class_names=['N','S','V']\n",
        "print(classification_report(lista_classes_originais_3, lista_classes_preditas_3, target_names=class_names,zero_division=1))"
      ],
      "metadata": {
        "id": "q7J1lpp30Efk"
      },
      "execution_count": null,
      "outputs": []
    }
  ]
}