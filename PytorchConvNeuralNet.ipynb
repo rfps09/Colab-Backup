{
  "cells": [
    {
      "cell_type": "markdown",
      "metadata": {
        "id": "view-in-github",
        "colab_type": "text"
      },
      "source": [
        "<a href=\"https://colab.research.google.com/github/rfps09/Colab-Backup/blob/main/PytorchConvNeuralNet.ipynb\" target=\"_parent\"><img src=\"https://colab.research.google.com/assets/colab-badge.svg\" alt=\"Open In Colab\"/></a>"
      ]
    },
    {
      "cell_type": "code",
      "source": [
        "import torch\n",
        "if torch.cuda.is_available():\n",
        "    dev = \"cuda:0\"\n",
        "else:\n",
        "    dev = \"cpu\"\n",
        "device = torch.device(dev)\n",
        "print(dev)"
      ],
      "metadata": {
        "id": "3KFy8FVn-cQq",
        "colab": {
          "base_uri": "https://localhost:8080/"
        },
        "outputId": "d15d5e77-ef8c-4011-f2e2-253abefe9b7e"
      },
      "execution_count": null,
      "outputs": [
        {
          "output_type": "stream",
          "name": "stdout",
          "text": [
            "cuda:0\n"
          ]
        }
      ]
    },
    {
      "cell_type": "code",
      "execution_count": null,
      "metadata": {
        "id": "4RCVCBn_3sm7",
        "colab": {
          "base_uri": "https://localhost:8080/"
        },
        "outputId": "ccd453f5-02a4-42ed-a7d2-427fec0b74b7"
      },
      "outputs": [
        {
          "output_type": "execute_result",
          "data": {
            "text/plain": [
              "1114"
            ]
          },
          "metadata": {},
          "execution_count": 118
        }
      ],
      "source": [
        "import torch\n",
        "import torchvision\n",
        "from torchvision import transforms\n",
        "from sklearn.model_selection import train_test_split\n",
        "\n",
        "transform = transforms.Compose(\n",
        "    [\n",
        "        transforms.Resize(size=(299, 299)),\n",
        "        transforms.ToTensor(),\n",
        "        transforms.Normalize([0.5875, 0.5591, 0.4995], [0.2855, 0.2831, 0.3047]),\n",
        "    ]\n",
        ")\n",
        "\n",
        "augmentation = transforms.Compose(\n",
        "    [\n",
        "        transforms.RandomHorizontalFlip(),\n",
        "        transforms.RandomVerticalFlip(),\n",
        "        transforms.RandomRotation((0,90)),\n",
        "        transforms.Resize(size=(299, 299)),\n",
        "        transforms.ToTensor(),\n",
        "        transforms.Normalize([0.5875, 0.5591, 0.4995], [0.2855, 0.2831, 0.3047]),\n",
        "    ]\n",
        ")\n",
        "\n",
        "data_path = 'drive/MyDrive/TensorFlow/DataSets/DogsAndCats/'\n",
        "train_data_path = data_path + 'train/'\n",
        "test_data_path = data_path + 'test/'\n",
        "\n",
        "dir_train = torchvision.datasets.ImageFolder(train_data_path,transform=transform)\n",
        "dir_aug = torchvision.datasets.ImageFolder(train_data_path,transform=augmentation)\n",
        "dir_train = torch.utils.data.ConcatDataset((dir_train,dir_aug))\n",
        "\n",
        "\n",
        "train_data = torch.utils.data.DataLoader(dir_train,batch_size=128,shuffle=True,num_workers=0)\n",
        "\n",
        "dir_test = torchvision.datasets.ImageFolder(test_data_path,transform=transform)\n",
        "test_data = torch.utils.data.DataLoader(dir_test,batch_size=32,shuffle=True,num_workers=0)\n",
        "len(train_data.dataset)"
      ]
    },
    {
      "cell_type": "code",
      "source": [
        "imgs = torch.stack([i for img,_ in test_data for i in img], dim=3)\n",
        "media = imgs.view(3,-1).mean(dim=1)\n",
        "desvio = imgs.view(3,-1).std(dim=1)\n",
        "print(media,desvio)"
      ],
      "metadata": {
        "colab": {
          "base_uri": "https://localhost:8080/"
        },
        "id": "lr4e7i2E-A_X",
        "outputId": "10fec75c-f107-4410-ec2e-03d3092a8aab"
      },
      "execution_count": null,
      "outputs": [
        {
          "output_type": "stream",
          "name": "stdout",
          "text": [
            "tensor([ 0.0601,  0.0291, -0.0140]) tensor([1.0133, 1.0140, 1.0218])\n"
          ]
        }
      ]
    },
    {
      "cell_type": "code",
      "execution_count": null,
      "metadata": {
        "id": "K0pzeDQuEe59"
      },
      "outputs": [],
      "source": [
        "import torch\n",
        "import torchvision\n",
        "from torch.nn import functional as F\n",
        "from torchvision import transforms\n",
        "from torch import nn\n",
        "\n",
        "class ConvNeuralNet(nn.Module):\n",
        "  def __init__(self):\n",
        "    super().__init__()\n",
        "    self.conv1 = nn.Conv2d(3,64,kernel_size=(3,3),padding=(1,1))\n",
        "    self.conv2 = nn.Conv2d(64,64,kernel_size=(3,3),padding=(1,1))\n",
        "    self.pool = nn.MaxPool2d(kernel_size=(3,3),stride=2)\n",
        "    self.layer1 = nn.Linear(64*5*5,256)\n",
        "    self.layer2 = nn.Linear(256,128)\n",
        "    self.layer3 = nn.Linear(128,2)\n",
        "\n",
        "  def forward(self,x):\n",
        "    x = self.pool(F.relu(self.conv1(x)))\n",
        "    x = self.pool(F.relu(self.conv2(x)))\n",
        "    x = self.pool(F.relu(self.conv2(x)))\n",
        "    x = self.pool(F.relu(self.conv2(x)))\n",
        "    x = torch.flatten(x,start_dim=1) #not flatten the batch size\n",
        "    x = F.relu(self.layer1(x))\n",
        "    x = F.relu(self.layer2(x))\n",
        "    x = self.layer3(x)\n",
        "    return x"
      ]
    },
    {
      "cell_type": "code",
      "execution_count": null,
      "metadata": {
        "id": "cJnsl7LppKrx"
      },
      "outputs": [],
      "source": [
        "def train_one_epoch(NeuralNet,Loss,Optimizer,data_treino):\n",
        "    NeuralNet.train(True)\n",
        "    current_loss = 0.0\n",
        "    current_accuracy = 0.0\n",
        "    total_samples = 0\n",
        "\n",
        "    for i,data in enumerate(data_treino):\n",
        "        x,y = data\n",
        "        x = x.to(device)\n",
        "        y = y.to(device)\n",
        "        Optimizer.zero_grad()\n",
        "        output = NeuralNet(x)\n",
        "        loss = Loss(output,y)\n",
        "        current_loss += loss.item()\n",
        "        loss.backward()\n",
        "        Optimizer.step()\n",
        "        \n",
        "        output = output.argmax(dim=1)\n",
        "        batch_accuracy = torch.eq(output,y)\n",
        "        batch_accuracy = batch_accuracy.sum()\n",
        "        current_accuracy += batch_accuracy\n",
        "        total_samples += len(x)\n",
        "\n",
        "    return current_loss/(i+1), (current_accuracy/total_samples).to('cpu')"
      ]
    },
    {
      "cell_type": "code",
      "source": [
        "def validation_one_epoch(NeuralNet,Loss,val_data):\n",
        "    NeuralNet.train(False)\n",
        "    current_loss = 0.0\n",
        "    current_accuracy = 0.0\n",
        "    total_samples = len(val_data.dataset)\n",
        "    \n",
        "    for i,data in enumerate(val_data):\n",
        "        x,y = data\n",
        "        x = x.to(device)\n",
        "        y = y.to(device)\n",
        "        output = NeuralNet(x)\n",
        "        loss = Loss(output,y)\n",
        "        current_loss += loss.item()\n",
        "\n",
        "        output = output.argmax(dim=1)\n",
        "        batch_accuracy = torch.eq(output,y)\n",
        "        batch_accuracy = batch_accuracy.sum()\n",
        "        current_accuracy += batch_accuracy\n",
        "    return current_loss/(i+1), (current_accuracy/total_samples).to('cpu')"
      ],
      "metadata": {
        "id": "LbBPoDW1unF6"
      },
      "execution_count": null,
      "outputs": []
    },
    {
      "cell_type": "code",
      "execution_count": null,
      "metadata": {
        "id": "6RWYAk-PqOtl",
        "colab": {
          "base_uri": "https://localhost:8080/"
        },
        "outputId": "ff90e0cf-24c6-4c1b-f05a-7f7aa78a8874"
      },
      "outputs": [
        {
          "output_type": "execute_result",
          "data": {
            "text/plain": [
              "ResNet(\n",
              "  (conv1): Conv2d(3, 64, kernel_size=(7, 7), stride=(2, 2), padding=(3, 3), bias=False)\n",
              "  (bn1): BatchNorm2d(64, eps=1e-05, momentum=0.1, affine=True, track_running_stats=True)\n",
              "  (relu): ReLU(inplace=True)\n",
              "  (maxpool): MaxPool2d(kernel_size=3, stride=2, padding=1, dilation=1, ceil_mode=False)\n",
              "  (layer1): Sequential(\n",
              "    (0): BasicBlock(\n",
              "      (conv1): Conv2d(64, 64, kernel_size=(3, 3), stride=(1, 1), padding=(1, 1), bias=False)\n",
              "      (bn1): BatchNorm2d(64, eps=1e-05, momentum=0.1, affine=True, track_running_stats=True)\n",
              "      (relu): ReLU(inplace=True)\n",
              "      (conv2): Conv2d(64, 64, kernel_size=(3, 3), stride=(1, 1), padding=(1, 1), bias=False)\n",
              "      (bn2): BatchNorm2d(64, eps=1e-05, momentum=0.1, affine=True, track_running_stats=True)\n",
              "    )\n",
              "    (1): BasicBlock(\n",
              "      (conv1): Conv2d(64, 64, kernel_size=(3, 3), stride=(1, 1), padding=(1, 1), bias=False)\n",
              "      (bn1): BatchNorm2d(64, eps=1e-05, momentum=0.1, affine=True, track_running_stats=True)\n",
              "      (relu): ReLU(inplace=True)\n",
              "      (conv2): Conv2d(64, 64, kernel_size=(3, 3), stride=(1, 1), padding=(1, 1), bias=False)\n",
              "      (bn2): BatchNorm2d(64, eps=1e-05, momentum=0.1, affine=True, track_running_stats=True)\n",
              "    )\n",
              "  )\n",
              "  (layer2): Sequential(\n",
              "    (0): BasicBlock(\n",
              "      (conv1): Conv2d(64, 128, kernel_size=(3, 3), stride=(2, 2), padding=(1, 1), bias=False)\n",
              "      (bn1): BatchNorm2d(128, eps=1e-05, momentum=0.1, affine=True, track_running_stats=True)\n",
              "      (relu): ReLU(inplace=True)\n",
              "      (conv2): Conv2d(128, 128, kernel_size=(3, 3), stride=(1, 1), padding=(1, 1), bias=False)\n",
              "      (bn2): BatchNorm2d(128, eps=1e-05, momentum=0.1, affine=True, track_running_stats=True)\n",
              "      (downsample): Sequential(\n",
              "        (0): Conv2d(64, 128, kernel_size=(1, 1), stride=(2, 2), bias=False)\n",
              "        (1): BatchNorm2d(128, eps=1e-05, momentum=0.1, affine=True, track_running_stats=True)\n",
              "      )\n",
              "    )\n",
              "    (1): BasicBlock(\n",
              "      (conv1): Conv2d(128, 128, kernel_size=(3, 3), stride=(1, 1), padding=(1, 1), bias=False)\n",
              "      (bn1): BatchNorm2d(128, eps=1e-05, momentum=0.1, affine=True, track_running_stats=True)\n",
              "      (relu): ReLU(inplace=True)\n",
              "      (conv2): Conv2d(128, 128, kernel_size=(3, 3), stride=(1, 1), padding=(1, 1), bias=False)\n",
              "      (bn2): BatchNorm2d(128, eps=1e-05, momentum=0.1, affine=True, track_running_stats=True)\n",
              "    )\n",
              "  )\n",
              "  (layer3): Sequential(\n",
              "    (0): BasicBlock(\n",
              "      (conv1): Conv2d(128, 256, kernel_size=(3, 3), stride=(2, 2), padding=(1, 1), bias=False)\n",
              "      (bn1): BatchNorm2d(256, eps=1e-05, momentum=0.1, affine=True, track_running_stats=True)\n",
              "      (relu): ReLU(inplace=True)\n",
              "      (conv2): Conv2d(256, 256, kernel_size=(3, 3), stride=(1, 1), padding=(1, 1), bias=False)\n",
              "      (bn2): BatchNorm2d(256, eps=1e-05, momentum=0.1, affine=True, track_running_stats=True)\n",
              "      (downsample): Sequential(\n",
              "        (0): Conv2d(128, 256, kernel_size=(1, 1), stride=(2, 2), bias=False)\n",
              "        (1): BatchNorm2d(256, eps=1e-05, momentum=0.1, affine=True, track_running_stats=True)\n",
              "      )\n",
              "    )\n",
              "    (1): BasicBlock(\n",
              "      (conv1): Conv2d(256, 256, kernel_size=(3, 3), stride=(1, 1), padding=(1, 1), bias=False)\n",
              "      (bn1): BatchNorm2d(256, eps=1e-05, momentum=0.1, affine=True, track_running_stats=True)\n",
              "      (relu): ReLU(inplace=True)\n",
              "      (conv2): Conv2d(256, 256, kernel_size=(3, 3), stride=(1, 1), padding=(1, 1), bias=False)\n",
              "      (bn2): BatchNorm2d(256, eps=1e-05, momentum=0.1, affine=True, track_running_stats=True)\n",
              "    )\n",
              "  )\n",
              "  (layer4): Sequential(\n",
              "    (0): BasicBlock(\n",
              "      (conv1): Conv2d(256, 512, kernel_size=(3, 3), stride=(2, 2), padding=(1, 1), bias=False)\n",
              "      (bn1): BatchNorm2d(512, eps=1e-05, momentum=0.1, affine=True, track_running_stats=True)\n",
              "      (relu): ReLU(inplace=True)\n",
              "      (conv2): Conv2d(512, 512, kernel_size=(3, 3), stride=(1, 1), padding=(1, 1), bias=False)\n",
              "      (bn2): BatchNorm2d(512, eps=1e-05, momentum=0.1, affine=True, track_running_stats=True)\n",
              "      (downsample): Sequential(\n",
              "        (0): Conv2d(256, 512, kernel_size=(1, 1), stride=(2, 2), bias=False)\n",
              "        (1): BatchNorm2d(512, eps=1e-05, momentum=0.1, affine=True, track_running_stats=True)\n",
              "      )\n",
              "    )\n",
              "    (1): BasicBlock(\n",
              "      (conv1): Conv2d(512, 512, kernel_size=(3, 3), stride=(1, 1), padding=(1, 1), bias=False)\n",
              "      (bn1): BatchNorm2d(512, eps=1e-05, momentum=0.1, affine=True, track_running_stats=True)\n",
              "      (relu): ReLU(inplace=True)\n",
              "      (conv2): Conv2d(512, 512, kernel_size=(3, 3), stride=(1, 1), padding=(1, 1), bias=False)\n",
              "      (bn2): BatchNorm2d(512, eps=1e-05, momentum=0.1, affine=True, track_running_stats=True)\n",
              "    )\n",
              "  )\n",
              "  (avgpool): AdaptiveAvgPool2d(output_size=(1, 1))\n",
              "  (fc): Sequential(\n",
              "    (0): Linear(in_features=512, out_features=256, bias=False)\n",
              "    (1): ReLU()\n",
              "    (2): Linear(in_features=256, out_features=128, bias=True)\n",
              "    (3): ReLU()\n",
              "    (4): Linear(in_features=128, out_features=2, bias=True)\n",
              "  )\n",
              ")"
            ]
          },
          "metadata": {},
          "execution_count": 123
        }
      ],
      "source": [
        "from torch import nn\n",
        "import torchvision.models as models\n",
        "\n",
        "cnn = models.resnet18(weights=models.ResNet18_Weights.DEFAULT)\n",
        "\n",
        "for param in cnn.layer4.parameters():\n",
        "    param.requires_grad = True\n",
        "for param in cnn.layer3.parameters():\n",
        "    param.requires_grad = True\n",
        "for param in cnn.avgpool.parameters():\n",
        "    param.requires_grad = True\n",
        "\n",
        "in_ftrs = cnn.fc.in_features\n",
        "cnn.fc = nn.Sequential(\n",
        "                nn.Linear(in_features=in_ftrs, out_features=256, bias=False),\n",
        "                nn.ReLU(),\n",
        "                nn.Linear(in_features=256, out_features=128, bias=True),\n",
        "                nn.ReLU(),\n",
        "                nn.Linear(in_features=128, out_features=2, bias=True))\n",
        "cnn.to(device)"
      ]
    },
    {
      "cell_type": "code",
      "source": [
        "loss_function = nn.CrossEntropyLoss()\n",
        "optimizer = torch.optim.SGD(cnn.parameters(),lr=1e-3,momentum=0.9)"
      ],
      "metadata": {
        "id": "070HsYyLEp1n"
      },
      "execution_count": null,
      "outputs": []
    },
    {
      "cell_type": "code",
      "execution_count": null,
      "metadata": {
        "colab": {
          "base_uri": "https://localhost:8080/"
        },
        "id": "1fZVlFLTpvEO",
        "outputId": "4944f0fc-73ec-4c69-e648-b611a62c31df"
      },
      "outputs": [
        {
          "output_type": "stream",
          "name": "stdout",
          "text": [
            "Starting epoch 1\n",
            "Train Loss: 0.6878195934825473\n",
            "Val Loss: 0.6815419793128967\n",
            "Train Accuracy: 0.5547576546669006\n",
            "Val Accuracy: 0.6571428775787354\n",
            "\n",
            "Starting epoch 2\n",
            "Train Loss: 0.6723912292056613\n",
            "Val Loss: 0.6625155329704284\n",
            "Train Accuracy: 0.6786355376243591\n",
            "Val Accuracy: 0.7214285731315613\n",
            "\n",
            "Starting epoch 3\n",
            "Train Loss: 0.6509651939074198\n",
            "Val Loss: 0.635410737991333\n",
            "Train Accuracy: 0.7737881541252136\n",
            "Val Accuracy: 0.8071428537368774\n",
            "\n",
            "Starting epoch 4\n",
            "Train Loss: 0.6263275080256991\n",
            "Val Loss: 0.6032246947288513\n",
            "Train Accuracy: 0.8321364521980286\n",
            "Val Accuracy: 0.8714285492897034\n",
            "\n",
            "Starting epoch 5\n",
            "Train Loss: 0.5953819221920438\n",
            "Val Loss: 0.5645249009132385\n",
            "Train Accuracy: 0.8886894583702087\n",
            "Val Accuracy: 0.8857142925262451\n",
            "\n",
            "Starting epoch 6\n",
            "Train Loss: 0.5603637430402968\n",
            "Val Loss: 0.5293132245540619\n",
            "Train Accuracy: 0.8976660966873169\n",
            "Val Accuracy: 0.9071428775787354\n",
            "\n",
            "Starting epoch 7\n",
            "Train Loss: 0.5167390373018053\n",
            "Val Loss: 0.4842638075351715\n",
            "Train Accuracy: 0.9192100763320923\n",
            "Val Accuracy: 0.9071428775787354\n",
            "\n",
            "Starting epoch 8\n",
            "Train Loss: 0.4689699278937446\n",
            "Val Loss: 0.4359887719154358\n",
            "Train Accuracy: 0.9174147248268127\n",
            "Val Accuracy: 0.9357143044471741\n",
            "\n",
            "Starting epoch 9\n",
            "Train Loss: 0.41585851046774125\n",
            "Val Loss: 0.368464058637619\n",
            "Train Accuracy: 0.9308797121047974\n",
            "Val Accuracy: 0.9357143044471741\n",
            "\n",
            "Starting epoch 10\n",
            "Train Loss: 0.36531155308087665\n",
            "Val Loss: 0.3166413903236389\n",
            "Train Accuracy: 0.9344704151153564\n",
            "Val Accuracy: 0.9357143044471741\n",
            "\n",
            "Training process has finished.\n"
          ]
        }
      ],
      "source": [
        "epochs = 10\n",
        "train_loss_all_epoch = []\n",
        "train_accuracy_all_epoch = []\n",
        "val_loss_all_epoch = []\n",
        "val_accuracy_all_epoch = []\n",
        "loss_best_model = 1e9\n",
        "\n",
        "for epoch in range(epochs):\n",
        "    print(f'Starting epoch {epoch+1}')\n",
        "\n",
        "    train_loss_per_epoch, train_accuracy_per_epoch = train_one_epoch(cnn,loss_function,optimizer,train_data)\n",
        "\n",
        "    train_loss_all_epoch.append(train_loss_per_epoch)\n",
        "    train_accuracy_all_epoch.append(train_accuracy_per_epoch)\n",
        "\n",
        "    val_loss_per_epoch,val_accuracy_per_epoch = validation_one_epoch(cnn,loss_function,test_data)\n",
        "    \n",
        "    val_loss_all_epoch.append(val_loss_per_epoch)\n",
        "    val_accuracy_all_epoch.append(val_accuracy_per_epoch)\n",
        "\n",
        "    if val_loss_per_epoch < loss_best_model:\n",
        "        loss_best_model = val_loss_per_epoch\n",
        "        model_path = 'drive/MyDrive/Pytorch/Models/DogsAndCats/test_model'\n",
        "        torch.save(cnn.state_dict(),model_path)\n",
        "\n",
        "    print(f'Train Loss: {train_loss_per_epoch}')\n",
        "    print(f'Val Loss: {val_loss_per_epoch}')\n",
        "    print(f'Train Accuracy: {train_accuracy_per_epoch}')\n",
        "    print(f'Val Accuracy: {val_accuracy_per_epoch}')\n",
        "    print()\n",
        "\n",
        "print('Training process has finished.')"
      ]
    },
    {
      "cell_type": "code",
      "execution_count": null,
      "metadata": {
        "id": "CYdUUduzyF10",
        "colab": {
          "base_uri": "https://localhost:8080/",
          "height": 282
        },
        "outputId": "db5d21bb-c439-40a7-ee33-b8af1f4e74ad"
      },
      "outputs": [
        {
          "output_type": "display_data",
          "data": {
            "text/plain": [
              "<Figure size 432x288 with 1 Axes>"
            ],
            "image/png": "[encoded data removed]"
          },
          "metadata": {
            "needs_background": "light"
          }
        }
      ],
      "source": [
        "import matplotlib.pyplot as plt\n",
        "\n",
        "plt.plot(train_loss_all_epoch)\n",
        "plt.plot(val_loss_all_epoch)\n",
        "plt.legend(['Treino', 'Validação'])\n",
        "plt.xlabel('Épocas')\n",
        "\n",
        "plt.show()"
      ]
    },
    {
      "cell_type": "code",
      "execution_count": null,
      "metadata": {
        "id": "gPBwbAAgyTq4",
        "colab": {
          "base_uri": "https://localhost:8080/",
          "height": 283
        },
        "outputId": "c58e026b-50f2-4619-b3f6-13429c102274"
      },
      "outputs": [
        {
          "output_type": "display_data",
          "data": {
            "text/plain": [
              "<Figure size 432x288 with 1 Axes>"
            ],
            "image/png": "[encoded data removed]"
          },
          "metadata": {
            "needs_background": "light"
          }
        }
      ],
      "source": [
        "import matplotlib.pyplot as plt\n",
        "\n",
        "plt.plot(train_accuracy_all_epoch)\n",
        "plt.plot(val_accuracy_all_epoch)\n",
        "plt.legend(['Treino', 'Validação'])\n",
        "plt.xlabel('Épocas')\n",
        "\n",
        "plt.show()"
      ]
    },
    {
      "cell_type": "code",
      "execution_count": null,
      "metadata": {
        "id": "GOhNvSM_yXbC",
        "colab": {
          "base_uri": "https://localhost:8080/"
        },
        "outputId": "7a6b6a99-5a37-4647-c980-67c8dc936593"
      },
      "outputs": [
        {
          "output_type": "stream",
          "name": "stdout",
          "text": [
            "              precision    recall  f1-score   support\n",
            "\n",
            "         0.0       0.97      0.90      0.93        70\n",
            "         1.0       0.91      0.97      0.94        70\n",
            "\n",
            "    accuracy                           0.94       140\n",
            "   macro avg       0.94      0.94      0.94       140\n",
            "weighted avg       0.94      0.94      0.94       140\n",
            "\n"
          ]
        }
      ],
      "source": [
        "from sklearn.metrics import classification_report\n",
        "\n",
        "cnn.train(False)\n",
        "\n",
        "all_pred = torch.tensor([]).to(device)\n",
        "all_true = torch.tensor([]).to(device)\n",
        "\n",
        "for data in test_data:\n",
        "    x_test,y_test = data\n",
        "    x_test = x_test.to(device)\n",
        "    y_test = y_test.to(device)\n",
        "    y_pred = cnn(x_test)\n",
        "    y_pred = torch.Tensor.argmax(y_pred, dim=1)\n",
        "    all_pred = torch.cat((all_pred,y_pred))\n",
        "    all_true = torch.cat((all_true,y_test))\n",
        "\n",
        "all_true = all_true.to('cpu')\n",
        "all_pred = all_pred.to('cpu')\n",
        "print(classification_report(all_true,all_pred,zero_division=1))"
      ]
    },
    {
      "cell_type": "code",
      "source": [
        "transform = transforms.Compose(\n",
        "    [\n",
        "        transforms.Resize(size=(299, 299)),\n",
        "        transforms.ToTensor(),\n",
        "        transforms.Normalize([0.5875, 0.5591, 0.4995], [0.2855, 0.2831, 0.3047])\n",
        "    ]\n",
        ")\n",
        "\n",
        "dir_val = torchvision.datasets.ImageFolder('drive/MyDrive/Pytorch/Teste',transform=transform)\n",
        "val_data = torch.utils.data.DataLoader(dir_val,batch_size=32,shuffle=False,num_workers=0)"
      ],
      "metadata": {
        "id": "bAJnocYJ-bVl"
      },
      "execution_count": null,
      "outputs": []
    },
    {
      "cell_type": "code",
      "source": [
        "from sklearn.metrics import classification_report\n",
        "\n",
        "cnn.train(False)\n",
        "\n",
        "for data in val_data:\n",
        "    x_test,y_test = data\n",
        "    x_test = x_test.to(device)\n",
        "    y_test = y_test.to(device)\n",
        "    y_pred = cnn(x_test)\n",
        "    y_pred = y_pred.softmax(dim=1)\n",
        "    print(y_pred)\n",
        "    y_pred = torch.Tensor.argmax(y_pred, dim=1)\n",
        "    print(y_test,y_pred)"
      ],
      "metadata": {
        "id": "cCtemOYeA2ps",
        "colab": {
          "base_uri": "https://localhost:8080/"
        },
        "outputId": "51930ad5-529e-4ab5-849b-6787727c61c4"
      },
      "execution_count": null,
      "outputs": [
        {
          "output_type": "stream",
          "name": "stdout",
          "text": [
            "tensor([[0.5733, 0.4267],\n",
            "        [0.2327, 0.7673],\n",
            "        [0.3181, 0.6819],\n",
            "        [0.3648, 0.6352],\n",
            "        [0.1096, 0.8904]], device='cuda:0', grad_fn=<SoftmaxBackward0>)\n",
            "tensor([0, 1, 1, 1, 1], device='cuda:0') tensor([0, 1, 1, 1, 1], device='cuda:0')\n"
          ]
        }
      ]
    }
  ],
  "metadata": {
    "colab": {
      "provenance": [],
      "mount_file_id": "1R5iqG1pIveaKbQoNtZcFfS07xlh16gLX",
      "authorship_tag": "ABX9TyP5HGw634uX6MdcQkbnGzqb",
      "include_colab_link": true
    },
    "kernelspec": {
      "display_name": "Python 3",
      "name": "python3"
    },
    "language_info": {
      "name": "python"
    },
    "accelerator": "GPU",
    "gpuClass": "standard"
  },
  "nbformat": 4,
  "nbformat_minor": 0
}