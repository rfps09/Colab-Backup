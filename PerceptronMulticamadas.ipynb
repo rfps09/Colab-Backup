{
  "nbformat": 4,
  "nbformat_minor": 0,
  "metadata": {
    "colab": {
      "provenance": [],
      "authorship_tag": "ABX9TyPoBFx2BKlXMM0fvxBoXHXP",
      "include_colab_link": true
    },
    "kernelspec": {
      "name": "python3",
      "display_name": "Python 3"
    },
    "language_info": {
      "name": "python"
    }
  },
  "cells": [
    {
      "cell_type": "markdown",
      "metadata": {
        "id": "view-in-github",
        "colab_type": "text"
      },
      "source": [
        "<a href=\"https://colab.research.google.com/github/rfps09/Colab-Backup/blob/main/PerceptronMulticamadas.ipynb\" target=\"_parent\"><img src=\"https://colab.research.google.com/assets/colab-badge.svg\" alt=\"Open In Colab\"/></a>"
      ]
    },
    {
      "cell_type": "code",
      "execution_count": null,
      "metadata": {
        "colab": {
          "base_uri": "https://localhost:8080/",
          "height": 334
        },
        "id": "3eF51egqOyxd",
        "outputId": "02a6fd86-c237-4510-b4d6-7ac05f3bd2fa"
      },
      "outputs": [
        {
          "output_type": "display_data",
          "data": {
            "text/plain": [
              "<Figure size 432x288 with 1 Axes>"
            ],
            "image/png": "[encoded data removed]"
          },
          "metadata": {
            "needs_background": "light"
          }
        },
        {
          "output_type": "stream",
          "name": "stdout",
          "text": [
            "[-1.04472812  0.95527188 -1.04472812  0.95527188  0.95527188  0.95527188\n",
            " -1.04472812  0.95527188 -1.04472812  0.95527188 -1.04472812  0.95527188\n",
            " -1.04472812]\n",
            "[0. 0. 0. 0. 0. 0. 0. 0. 0. 0. 0. 0. 0.]\n"
          ]
        }
      ],
      "source": [
        "import numpy as np\n",
        "import matplotlib.pyplot as plt\n",
        "   \n",
        "numEpocas = 10000        # Número de épocas.\n",
        "q = 13                # Número de padrões.\n",
        "\n",
        "eta = 0.01            # Taxa de aprendizado.\n",
        "m = 2                 # Número de neurônios na camada de entrada.\n",
        "N = 8                # Número de neurônios na camada escondida.\n",
        "L = 1                 # Número de neurônios na camada de saída.\n",
        "\n",
        "# Carrega os dados de treinamento\n",
        "peso = np.array([113, 122, 107,  98, 115, 120, 104, 108, 117, 101, 112, 106, 116])\n",
        "pH   = np.array([6.8, 4.7, 5.2, 3.6, 2.9, 4.2, 6.3, 4.0, 6.3, 4.2, 5.6, 3.1, 5.0])\n",
        "\n",
        "# Vetor de classificação desejada.\n",
        "d = np.array([-1, 1, -1, 1, 1, 1, -1, 1, -1, 1, -1, 1, -1])\n",
        "\n",
        "# Inicia aleatoriamente as matrizes de pesos.\n",
        "W1 = np.random.random((N, m + 1))\n",
        "W2 = np.random.random((L, N + 1))\n",
        "\n",
        "# Array para amazernar os erros.\n",
        "E = np.zeros(q)\n",
        "Etm = np.zeros(numEpocas)\n",
        "\n",
        "# bias\n",
        "bias = 1\n",
        "\n",
        "# Entrada do Perceptron.\n",
        "X = np.vstack((peso, pH))   # Ou X = np.asarray([peso, pH])\n",
        "\n",
        "# ===============================================================\n",
        "# TREINAMENTO.\n",
        "# ===============================================================\n",
        "        \n",
        "for i in range(numEpocas):\n",
        "    for j in range(q):\n",
        "        \n",
        "        # Insere o bias no vetor de entrada.\n",
        "        Xb = np.hstack((bias, X[:,j]))\n",
        "\n",
        "        # Saída da Camada Escondida.\n",
        "        O1 = np.tanh(W1.dot(Xb))            # Equações (1) e (2) juntas.      \n",
        "\n",
        "        # Incluindo o bias. Saída da camada escondida é a entrada da camada\n",
        "        # de saída.\n",
        "        O1b = np.insert(O1, 0, bias)\n",
        "\n",
        "        # Neural network output\n",
        "        Y = np.tanh(W2.dot(O1b))            # Equações (3) e (4) juntas.\n",
        "        \n",
        "        e = d[j] - Y                        # Equação (5).\n",
        "\n",
        "        # Erro Total.\n",
        "        E[j] = (e.transpose().dot(e))/2     # Equação de erro quadrática.\n",
        "        \n",
        "        # Imprime o número da época e o Erro Total.\n",
        "        # print('i = ' + str(i) + '   E = ' + str(E))\n",
        "   \n",
        "        # Error backpropagation.   \n",
        "        # Cálculo do gradiente na camada de saída.\n",
        "        delta2 = np.diag(e).dot((1 - Y*Y))          # Eq. (6)\n",
        "        vdelta2 = (W2.transpose()).dot(delta2)      # Eq. (7)\n",
        "        delta1 = np.diag(1 - O1b*O1b).dot(vdelta2)  # Eq. (8)\n",
        "\n",
        "        # Atualização dos pesos.\n",
        "        W1 = W1 + eta*(np.outer(delta1[1:], Xb))\n",
        "        W2 = W2 + eta*(np.outer(delta2, O1b))\n",
        "    \n",
        "    Etm[i] = E.mean()\n",
        "   \n",
        "# print(\"Erro Total Médio = \" + str(Etm))\n",
        "plt.plot(Etm)\n",
        "plt.show()\n",
        "\n",
        "# ===============================================================\n",
        "# TESTE DA REDE.\n",
        "# ===============================================================\n",
        "\n",
        "Error_Test = np.zeros(q)\n",
        "\n",
        "for i in range(q):\n",
        "    # Insere o bias no vetor de entrada.\n",
        "    Xb = np.hstack((bias, X[:,i]))\n",
        "\n",
        "    # Saída da Camada Escondida.\n",
        "    O1 = np.tanh(W1.dot(Xb))            # Equações (1) e (2) juntas.      \n",
        "\n",
        "    # Incluindo o bias. Saída da camada escondida é a entrada da camada\n",
        "    # de saída.\n",
        "    O1b = np.insert(O1, 0, bias)\n",
        "\n",
        "    # Neural network output\n",
        "    Y = np.tanh(W2.dot(O1b))            # Equações (3) e (4) juntas.\n",
        "\n",
        "    Error_Test[i] = d[i] - Y\n",
        "    \n",
        "print(Error_Test)\n",
        "print(np.round(Error_Test) - d)"
      ]
    },
    {
      "cell_type": "code",
      "source": [
        "peso = np.array([110, 113, 120,  125, 97])\n",
        "pH   = np.array([6.0, 4.4, 3.5, 5.5, 5.0])\n",
        "\n",
        "# Vetor de classificação desejada.\n",
        "d = np.array([-1, -1, 1, 1, 1])\n",
        "\n",
        "# ===============================================================\n",
        "# TESTE DA REDE.\n",
        "# ===============================================================\n",
        "\n",
        "Error_Test = np.zeros(5)\n",
        "\n",
        "for i in range(5):\n",
        "    # Insere o bias no vetor de entrada.\n",
        "    Xb = np.hstack((bias, X[:,i]))\n",
        "\n",
        "    # Saída da Camada Escondida.\n",
        "    O1 = np.tanh(W1.dot(Xb))            # Equações (1) e (2) juntas.      \n",
        "\n",
        "    # Incluindo o bias. Saída da camada escondida é a entrada da camada\n",
        "    # de saída.\n",
        "    O1b = np.insert(O1, 0, bias)\n",
        "\n",
        "    # Neural network output\n",
        "    Y = np.tanh(W2.dot(O1b))            # Equações (3) e (4) juntas.\n",
        "\n",
        "    Error_Test[i] = d[i] - Y\n",
        "    \n",
        "print(numEpocas)\n",
        "print(Error_Test)\n",
        "print(np.round(Error_Test) - d)"
      ],
      "metadata": {
        "colab": {
          "base_uri": "https://localhost:8080/"
        },
        "id": "oqiXa7-PWs3p",
        "outputId": "bae2e7b2-996f-434b-f99e-396d8e44b85e"
      },
      "execution_count": null,
      "outputs": [
        {
          "output_type": "stream",
          "name": "stdout",
          "text": [
            "10000\n",
            "[-1.04472812 -1.04472812  0.95527188  0.95527188  0.95527188]\n",
            "[0. 0. 0. 0. 0.]\n"
          ]
        }
      ]
    }
  ]
}