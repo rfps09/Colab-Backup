{
  "nbformat": 4,
  "nbformat_minor": 0,
  "metadata": {
    "colab": {
      "provenance": [],
      "mount_file_id": "1n827_Pzr6Iap1eg-dagEY2QlJHC8OC7a",
      "authorship_tag": "ABX9TyM8j1SBbQrj3qyM355ISVjy",
      "include_colab_link": true
    },
    "kernelspec": {
      "name": "python3",
      "display_name": "Python 3"
    },
    "language_info": {
      "name": "python"
    }
  },
  "cells": [
    {
      "cell_type": "markdown",
      "metadata": {
        "id": "view-in-github",
        "colab_type": "text"
      },
      "source": [
        "<a href=\"https://colab.research.google.com/github/rfps09/Colab-Backup/blob/main/TemporalSeries.ipynb\" target=\"_parent\"><img src=\"https://colab.research.google.com/assets/colab-badge.svg\" alt=\"Open In Colab\"/></a>"
      ]
    },
    {
      "cell_type": "code",
      "source": [
        "!pip install numpy-hilbert-curve"
      ],
      "metadata": {
        "id": "W5B8GW9DtNtM",
        "colab": {
          "base_uri": "https://localhost:8080/"
        },
        "outputId": "206b7119-28b5-4e6e-d372-7faa2575fb02"
      },
      "execution_count": null,
      "outputs": [
        {
          "output_type": "stream",
          "name": "stdout",
          "text": [
            "Looking in indexes: https://pypi.org/simple, https://us-python.pkg.dev/colab-wheels/public/simple/\n",
            "Collecting numpy-hilbert-curve\n",
            "  Downloading numpy-hilbert-curve-1.0.1.tar.gz (5.5 kB)\n",
            "Building wheels for collected packages: numpy-hilbert-curve\n",
            "  Building wheel for numpy-hilbert-curve (setup.py) ... \u001b[?25l\u001b[?25hdone\n",
            "  Created wheel for numpy-hilbert-curve: filename=numpy_hilbert_curve-1.0.1-py3-none-any.whl size=6953 sha256=d6d7da75864e7f89d9346cfa3651a18b161ce08174f4cd1089335044920f69a6\n",
            "  Stored in directory: /root/.cache/pip/wheels/aa/50/aa/cc75da43321e28ebe4cfbb05b51af5048e4615c1d3ea1595c8\n",
            "Successfully built numpy-hilbert-curve\n",
            "Installing collected packages: numpy-hilbert-curve\n",
            "Successfully installed numpy-hilbert-curve-1.0.1\n"
          ]
        }
      ]
    },
    {
      "cell_type": "code",
      "execution_count": null,
      "metadata": {
        "id": "T_xCb7rMrQdK"
      },
      "outputs": [],
      "source": [
        "from PIL import Image\n",
        "\n",
        "path = \"drive/MyDrive/TensorFlow/DataSets/RandomImages/\"\n",
        "\n",
        "image = Image.open(path+'sad.jpg')\n",
        "print(f\"Original size : {image.size}\")\n",
        "\n",
        "perfil_resized = image.resize((64, 64))\n",
        "perfil_resized.save(path+'sad_64.jpeg')"
      ]
    },
    {
      "cell_type": "code",
      "source": [
        "import numpy as np\n",
        "import matplotlib.pyplot as plt\n",
        "from matplotlib.image import imread\n",
        "\n",
        "from hilbert import decode\n",
        "\n",
        "path = \"drive/MyDrive/TensorFlow/DataSets/RandomImages/\"\n",
        "\n",
        "num_dims = 2\n",
        "\n",
        "def draw_curve(fig, num_bits):\n",
        "    #read imagem to color\n",
        "    img = imread(path+'sad_64.jpeg')\n",
        "    print(img.shape)\n",
        "\n",
        "    # The maximum Hilbert integer.\n",
        "    max_h = 2**(num_bits*num_dims)\n",
        "\n",
        "    # Generate a sequence of Hilbert integers.\n",
        "    hilberts = np.arange(max_h)\n",
        "\n",
        "    # Compute the 2-dimensional locations.\n",
        "    locs = decode(hilberts, num_dims, num_bits)\n",
        "\n",
        "    ax = plt.Axes(fig, [0., 0., 1., 1.])\n",
        "    ax.set_axis_off()\n",
        "\n",
        "    # Draw. This may be a little slow.\n",
        "    for ii in range(max_h-1):\n",
        "        ax.plot([locs[ii,0], locs[ii+1,0]],\n",
        "        [locs[ii,1], locs[ii+1,1]],\n",
        "        '-', color = '#%02x%02x%02x' % (img[locs[ii][0]][locs[ii][1]][0], img[locs[ii][0]][locs[ii][1]][1], img[locs[ii][0]][locs[ii][1]][2]))\n",
        "        ax.set_aspect('equal')\n",
        "\n",
        "    fig.add_axes(ax)\n",
        "\n",
        "fig = plt.figure(figsize=(5.12,5.12), dpi=100, facecolor='black')\n",
        "draw_curve(fig, 6)\n",
        "plt.savefig(path+'sad_hilbert_64.png', dpi=100)"
      ],
      "metadata": {
        "id": "lV6dD47Kres8"
      },
      "execution_count": null,
      "outputs": []
    },
    {
      "cell_type": "code",
      "source": [
        "import numpy as np\n",
        "import matplotlib.pyplot as plt\n",
        "from hilbert import decode\n",
        "ecg = np.genfromtxt('drive/MyDrive/TensorFlow/DataSets/HeartBeat/ptbdb_normal.csv',delimiter=',',max_rows=1)\n",
        "num_bits = 1\n",
        "max_h = 2**(2*num_bits)\n",
        "while ecg.size > max_h:\n",
        "    num_bits+=1\n",
        "    max_h = 2**(2*num_bits)\n",
        "\n",
        "ecg = np.hstack((ecg,ecg))\n",
        "l = decode(range(ecg.size),2,num_bits)\n",
        "ecg_matriz = np.zeros((2**num_bits,2**num_bits))\n",
        "for i in range(max_h):\n",
        "  ecg_matriz[l[i][0]][l[i][1]] = ecg[i]\n",
        "  print\n",
        "plt.imshow(ecg_matriz,cmap='rainbow')\n",
        "plt.show()"
      ],
      "metadata": {
        "colab": {
          "base_uri": "https://localhost:8080/",
          "height": 265
        },
        "id": "ZsIp4PWk2wVY",
        "outputId": "cab63b76-3b90-4692-aa4e-141205be43a9"
      },
      "execution_count": null,
      "outputs": [
        {
          "output_type": "display_data",
          "data": {
            "text/plain": [
              "<Figure size 432x288 with 1 Axes>"
            ],
            "image/png": "[encoded data removed]"
          },
          "metadata": {
            "needs_background": "light"
          }
        }
      ]
    },
    {
      "cell_type": "code",
      "source": [
        "import matplotlib\n",
        "import matplotlib.pyplot as plt\n",
        "import numpy\n",
        "\n",
        "def xrange(x):\n",
        "    return iter(range(x))\n",
        "def xrange(*args, **kwargs):\n",
        "        return iter(range(*args, **kwargs))\n",
        "\n",
        "def processFile2(x,y, level=4,normalize=False):\n",
        "    n = 1 << level\n",
        "    m = numpy.zeros((n, n))\n",
        "    max_arg = 0\n",
        "    max_uso = abs(max(x))\n",
        "    #if max_uso<max_arg: max_uso=max_arg\n",
        "    if max_uso<max_arg:\n",
        "        max_uso=max_arg\n",
        "        if max_uso==0: max_uso=0.000000000000001\n",
        "    if normalize:\n",
        "        y -= numpy.average(y)\n",
        "        y /= numpy.std(y)\n",
        "    for i in xrange(0, len(x)):\n",
        "        c, r = d2xy(n, int(round((n**2 - 1) * x[i] / max_uso)))\n",
        "        m[r][c] += y[i]\n",
        "    return m\n",
        "\n",
        "########################################\n",
        "# These functions refactored from those available at \n",
        "# wikipedia for Hilbert curves http://en.wikipedia.org/wiki/Hilbert_curve\n",
        "def d2xy(n, d):\n",
        "    \"\"\"\n",
        "    take a d value in [0, n**2 - 1] and map it to\n",
        "    an x, y value (e.g. c, r).\n",
        "    \"\"\"\n",
        "    assert(d <= n**2 - 1)\n",
        "    t = d\n",
        "    x = y = 0\n",
        "    s = 1\n",
        "    while (s < n):\n",
        "        #rx = 1 & (t / 2)\n",
        "        #ry = 1 & (t ^ rx)\n",
        "        rx = 1 & int(t / 2)\n",
        "        ry = 1 & (int(t) ^ rx)\n",
        "        x, y = rot(s, x, y, rx, ry)\n",
        "        x += s * rx\n",
        "        y += s * ry\n",
        "        t /= 4\n",
        "        s *= 2\n",
        "    return x, y\n",
        "def rot(n, x, y, rx, ry):\n",
        "    \"\"\"\n",
        "    rotate/flip a quadrant appropriately\n",
        "    \"\"\"\n",
        "    if ry == 0:\n",
        "        if rx == 1:\n",
        "            x = n - 1 - x\n",
        "            y = n - 1 - y\n",
        "        return y, x\n",
        "    return x, y\n",
        "\n",
        "def hilbert_plot(t,x,level=5,\n",
        "                normalize=True):\n",
        "    data = processFile2(t,x,\n",
        "                level,\n",
        "                normalize)\n",
        "    return data[ ::-1,:] # reverse row order"
      ],
      "metadata": {
        "id": "a2U1lHXavjhZ"
      },
      "execution_count": null,
      "outputs": []
    },
    {
      "cell_type": "code",
      "source": [
        "t_hilbert = np.zeros(shape=188)\n",
        "for i in range(188):\n",
        "    if i==0:\n",
        "        t_hilbert[i]=0\n",
        "    else:\n",
        "        t_hilbert[i]=t_hilbert[i-1]+1;\n",
        "data = hilbert_plot(t_hilbert,ecg)\n",
        "\n",
        "fig = plt.figure(figsize=(15,14))\n",
        "ax = fig.add_subplot(2, 3, 1)\n",
        "# ax.imshow(data, cmap='gray')\n",
        "ax.imshow(data, cmap='rainbow')"
      ],
      "metadata": {
        "colab": {
          "base_uri": "https://localhost:8080/",
          "height": 311
        },
        "id": "B8QBSLiQv_rS",
        "outputId": "10aa17f8-4ea5-4903-d634-ddfa23c0a42c"
      },
      "execution_count": null,
      "outputs": [
        {
          "output_type": "execute_result",
          "data": {
            "text/plain": [
              "<matplotlib.image.AxesImage at 0x7ff3750d0dd0>"
            ]
          },
          "metadata": {},
          "execution_count": 30
        },
        {
          "output_type": "display_data",
          "data": {
            "text/plain": [
              "<Figure size 1080x1008 with 1 Axes>"
            ],
            "image/png": "[encoded data removed]"
          },
          "metadata": {
            "needs_background": "light"
          }
        }
      ]
    }
  ]
}