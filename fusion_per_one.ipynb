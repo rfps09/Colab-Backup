{
  "nbformat": 4,
  "nbformat_minor": 0,
  "metadata": {
    "colab": {
      "provenance": [],
      "mount_file_id": "1eoHyu1uzCpVSVCdbQU_wJz8_spNUOIh0",
      "authorship_tag": "ABX9TyM7fMZutrcCuH0Q5aMH/x5P",
      "include_colab_link": true
    },
    "kernelspec": {
      "name": "python3",
      "display_name": "Python 3"
    },
    "language_info": {
      "name": "python"
    }
  },
  "cells": [
    {
      "cell_type": "markdown",
      "metadata": {
        "id": "view-in-github",
        "colab_type": "text"
      },
      "source": [
        "<a href=\"https://colab.research.google.com/github/rfps09/Colab-Backup/blob/main/fusion_per_one.ipynb\" target=\"_parent\"><img src=\"https://colab.research.google.com/assets/colab-badge.svg\" alt=\"Open In Colab\"/></a>"
      ]
    },
    {
      "cell_type": "code",
      "execution_count": null,
      "metadata": {
        "id": "o6ZAnbRtZcmR"
      },
      "outputs": [],
      "source": [
        "!pip install pyts"
      ]
    },
    {
      "cell_type": "code",
      "source": [
        "import numpy as np\n",
        "from pyts.image import GramianAngularField\n",
        "from pyts.image import MarkovTransitionField\n",
        "from pyts.image import RecurrencePlot\n",
        "from PIL import Image\n",
        "import matplotlib.pyplot as plt\n",
        "import os\n",
        "\n",
        "all_temp_serie = np.genfromtxt('drive/MyDrive/TensorFlow/DataSets/HeartBeat/mitbih_test.csv', delimiter=',')"
      ],
      "metadata": {
        "id": "2wTN_7GLZjGT"
      },
      "execution_count": null,
      "outputs": []
    },
    {
      "cell_type": "code",
      "source": [
        "for i,temp_serie in enumerate(all_temp_serie):\n",
        "    y = temp_serie[-1]\n",
        "    x = np.delete(temp_serie,-1)\n",
        "    x = np.concatenate((x,np.zeros(40)))\n",
        "    x = np.expand_dims(x,axis=0)\n",
        "\n",
        "    gaf = GramianAngularField(method='summation')\n",
        "    mtf = MarkovTransitionField(n_bins=8)\n",
        "    rp = RecurrencePlot(threshold=0.1,percentage=10)\n",
        "\n",
        "    gaf_img_serie = (gaf.fit_transform(x) + 1) / 2\n",
        "    mtf_img_serie = mtf.fit_transform(x)\n",
        "    rp_img_serie = rp.fit_transform(x)\n",
        "\n",
        "    img_serie = np.stack((gaf_img_serie,mtf_img_serie,rp_img_serie),axis=1)\n",
        "    img_serie = np.moveaxis(img_serie,1,-1)\n",
        "\n",
        "    path_train = 'drive/MyDrive/Pytorch/Datasets/mitbih_fusion/train_227/'\n",
        "    path_test = 'drive/MyDrive/Pytorch/Datasets/mitbih_fusion/test_227/'\n",
        "    save_path = path_test + str(int(y)) + '/'\n",
        "    if not os.path.exists(save_path):\n",
        "        os.makedirs(save_path)\n",
        "    img = Image.fromarray((img_serie.squeeze()*255).astype(np.uint8),'RGB')\n",
        "    name = str(i) +'_gmr_fusion_' + 'class_' + str(int(y)) + '.jpg'\n",
        "    img.save(save_path + name, 'JPEG')"
      ],
      "metadata": {
        "id": "UZko8qzJaVP3"
      },
      "execution_count": null,
      "outputs": []
    }
  ]
}