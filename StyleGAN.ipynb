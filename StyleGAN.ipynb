{
  "nbformat": 4,
  "nbformat_minor": 0,
  "metadata": {
    "colab": {
      "provenance": [],
      "mount_file_id": "1hYm8b-qEdeAu1Rl6-NxGiCEmnCO4gLu1",
      "authorship_tag": "ABX9TyMnyaUAk6RwJkfpt+yigj0o",
      "include_colab_link": true
    },
    "kernelspec": {
      "name": "python3",
      "display_name": "Python 3"
    },
    "language_info": {
      "name": "python"
    },
    "accelerator": "GPU",
    "gpuClass": "standard"
  },
  "cells": [
    {
      "cell_type": "markdown",
      "metadata": {
        "id": "view-in-github",
        "colab_type": "text"
      },
      "source": [
        "<a href=\"https://colab.research.google.com/github/rfps09/Colab-Backup/blob/main/StyleGAN.ipynb\" target=\"_parent\"><img src=\"https://colab.research.google.com/assets/colab-badge.svg\" alt=\"Open In Colab\"/></a>"
      ]
    },
    {
      "cell_type": "code",
      "execution_count": null,
      "metadata": {
        "id": "TWgHVJEI0VhM"
      },
      "outputs": [],
      "source": [
        "!pip install einops ninja gdown"
      ]
    },
    {
      "cell_type": "code",
      "source": [
        "################################################################################\n",
        "# INSTALL CONDA ON GOOGLE COLAB\n",
        "################################################################################\n",
        "! wget https://repo.anaconda.com/miniconda/Miniconda3-py37_4.8.2-Linux-x86_64.sh\n",
        "! chmod +x Miniconda3-py37_4.8.2-Linux-x86_64.sh\n",
        "! bash ./Miniconda3-py37_4.8.2-Linux-x86_64.sh -b -f -p /usr/local\n",
        "import sys\n",
        "sys.path.append('/usr/local/lib/python3.7/site-packages/')"
      ],
      "metadata": {
        "id": "v_grKYQN0iIK"
      },
      "execution_count": null,
      "outputs": []
    },
    {
      "cell_type": "code",
      "source": [
        "import os\n",
        "if not os.path.isdir('drive/MyDrive/stylegan3/'):\n",
        "    !git clone https://github.com/rfps09/stylegan3.git drive/MyDrive/stylegan3/\n",
        "    print('clonado')\n",
        "else:\n",
        "    print('Já baixado')"
      ],
      "metadata": {
        "id": "XAaguBV60lVm"
      },
      "execution_count": null,
      "outputs": []
    },
    {
      "cell_type": "code",
      "source": [
        "!conda env create -f drive/MyDrive/stylegan3/environment.yml"
      ],
      "metadata": {
        "id": "ikQUMWNC0kbB"
      },
      "execution_count": null,
      "outputs": []
    },
    {
      "cell_type": "code",
      "source": [
        "!source activate stylegan3 && python drive/MyDrive/stylegan3/dataset_tool.py \\\n",
        "--source=drive/MyDrive/F.zip \\\n",
        "--dest=drive/MyDrive/stylegan3/datasets/F-256x256.zip \\\n",
        "--resolution='256x256'"
      ],
      "metadata": {
        "id": "Qtz4vLF20nzO"
      },
      "execution_count": null,
      "outputs": []
    },
    {
      "cell_type": "code",
      "source": [
        "!source activate stylegan3 && pip install psutil"
      ],
      "metadata": {
        "id": "uS77NnGi0o6Y"
      },
      "execution_count": null,
      "outputs": []
    },
    {
      "cell_type": "code",
      "source": [
        "!source activate stylegan3 && python drive/MyDrive/stylegan3/train.py \\\n",
        "--data=drive/MyDrive/stylegan3/datasets/F-256x256.zip \\\n",
        "--outdir=drive/MyDrive/stylegan3/training-runs \\\n",
        "--cfg=stylegan3-r \\\n",
        "--gamma=2 \\\n",
        "--aug=noaug \\\n",
        "--metrics=none \\\n",
        "--gpus=1 \\\n",
        "--batch=32 \\\n",
        "--batch-gpu=16 \\\n",
        "--kimg=5000 \\\n",
        "--tick=10 \\\n",
        "--snap=10 "
      ],
      "metadata": {
        "colab": {
          "base_uri": "https://localhost:8080/"
        },
        "id": "kWV60ORk0p04",
        "outputId": "af887b11-22b7-4687-8e9a-a27012a31548"
      },
      "execution_count": null,
      "outputs": [
        {
          "output_type": "stream",
          "name": "stdout",
          "text": [
            "Done.\n",
            "\n",
            "Generator                     Parameters  Buffers  Output shape          Datatype\n",
            "---                           ---         ---      ---                   ---     \n",
            "mapping.fc0                   262656      -        [16, 512]             float32 \n",
            "mapping.fc1                   262656      -        [16, 512]             float32 \n",
            "mapping                       -           512      [16, 16, 512]         float32 \n",
            "synthesis.input.affine        2052        -        [16, 4]               float32 \n",
            "synthesis.input               1048576     3081     [16, 1024, 36, 36]    float32 \n",
            "synthesis.L0_36_1024.affine   525312      -        [16, 1024]            float32 \n",
            "synthesis.L0_36_1024          1049600     157      [16, 1024, 36, 36]    float32 \n",
            "synthesis.L1_36_1024.affine   525312      -        [16, 1024]            float32 \n",
            "synthesis.L1_36_1024          1049600     157      [16, 1024, 36, 36]    float32 \n",
            "synthesis.L2_36_1024.affine   525312      -        [16, 1024]            float32 \n",
            "synthesis.L2_36_1024          1049600     157      [16, 1024, 36, 36]    float32 \n",
            "synthesis.L3_52_1024.affine   525312      -        [16, 1024]            float32 \n",
            "synthesis.L3_52_1024          1049600     169      [16, 1024, 52, 52]    float16 \n",
            "synthesis.L4_52_1024.affine   525312      -        [16, 1024]            float32 \n",
            "synthesis.L4_52_1024          1049600     157      [16, 1024, 52, 52]    float16 \n",
            "synthesis.L5_84_1024.affine   525312      -        [16, 1024]            float32 \n",
            "synthesis.L5_84_1024          1049600     169      [16, 1024, 84, 84]    float16 \n",
            "synthesis.L6_84_1024.affine   525312      -        [16, 1024]            float32 \n",
            "synthesis.L6_84_1024          1049600     157      [16, 1024, 84, 84]    float16 \n",
            "synthesis.L7_148_1024.affine  525312      -        [16, 1024]            float32 \n",
            "synthesis.L7_148_1024         1049600     169      [16, 1024, 148, 148]  float16 \n",
            "synthesis.L8_148_1024.affine  525312      -        [16, 1024]            float32 \n",
            "synthesis.L8_148_1024         1049600     157      [16, 1024, 148, 148]  float16 \n",
            "synthesis.L9_148_724.affine   525312      -        [16, 1024]            float32 \n",
            "synthesis.L9_148_724          742100      157      [16, 724, 148, 148]   float16 \n",
            "synthesis.L10_276_512.affine  371412      -        [16, 724]             float32 \n",
            "synthesis.L10_276_512         371200      169      [16, 512, 276, 276]   float16 \n",
            "synthesis.L11_276_362.affine  262656      -        [16, 512]             float32 \n",
            "synthesis.L11_276_362         185706      157      [16, 362, 276, 276]   float16 \n",
            "synthesis.L12_276_256.affine  185706      -        [16, 362]             float32 \n",
            "synthesis.L12_276_256         92928       25       [16, 256, 276, 276]   float16 \n",
            "synthesis.L13_256_256.affine  131328      -        [16, 256]             float32 \n",
            "synthesis.L13_256_256         65792       25       [16, 256, 256, 256]   float16 \n",
            "synthesis.L14_256_3.affine    131328      -        [16, 256]             float32 \n",
            "synthesis.L14_256_3           771         1        [16, 3, 256, 256]     float16 \n",
            "synthesis                     -           -        [16, 3, 256, 256]     float32 \n",
            "---                           ---         ---      ---                   ---     \n",
            "Total                         18816387    5576     -                     -       \n",
            "\n",
            "Setting up PyTorch plugin \"upfirdn2d_plugin\"... Done.\n",
            "\n",
            "Discriminator  Parameters  Buffers  Output shape         Datatype\n",
            "---            ---         ---      ---                  ---     \n",
            "b256.fromrgb   512         16       [16, 128, 256, 256]  float16 \n",
            "b256.skip      32768       16       [16, 256, 128, 128]  float16 \n",
            "b256.conv0     147584      16       [16, 128, 256, 256]  float16 \n",
            "b256.conv1     295168      16       [16, 256, 128, 128]  float16 \n",
            "b256           -           16       [16, 256, 128, 128]  float16 \n",
            "b128.skip      131072      16       [16, 512, 64, 64]    float16 \n",
            "b128.conv0     590080      16       [16, 256, 128, 128]  float16 \n",
            "b128.conv1     1180160     16       [16, 512, 64, 64]    float16 \n",
            "b128           -           16       [16, 512, 64, 64]    float16 \n",
            "b64.skip       262144      16       [16, 512, 32, 32]    float16 \n",
            "b64.conv0      2359808     16       [16, 512, 64, 64]    float16 \n",
            "b64.conv1      2359808     16       [16, 512, 32, 32]    float16 \n",
            "b64            -           16       [16, 512, 32, 32]    float16 \n",
            "b32.skip       262144      16       [16, 512, 16, 16]    float16 \n",
            "b32.conv0      2359808     16       [16, 512, 32, 32]    float16 \n",
            "b32.conv1      2359808     16       [16, 512, 16, 16]    float16 \n",
            "b32            -           16       [16, 512, 16, 16]    float16 \n",
            "b16.skip       262144      16       [16, 512, 8, 8]      float32 \n",
            "b16.conv0      2359808     16       [16, 512, 16, 16]    float32 \n",
            "b16.conv1      2359808     16       [16, 512, 8, 8]      float32 \n",
            "b16            -           16       [16, 512, 8, 8]      float32 \n",
            "b8.skip        262144      16       [16, 512, 4, 4]      float32 \n",
            "b8.conv0       2359808     16       [16, 512, 8, 8]      float32 \n",
            "b8.conv1       2359808     16       [16, 512, 4, 4]      float32 \n",
            "b8             -           16       [16, 512, 4, 4]      float32 \n",
            "b4.mbstd       -           -        [16, 513, 4, 4]      float32 \n",
            "b4.conv        2364416     16       [16, 512, 4, 4]      float32 \n",
            "b4.fc          4194816     -        [16, 512]            float32 \n",
            "b4.out         513         -        [16, 1]              float32 \n",
            "---            ---         ---      ---                  ---     \n",
            "Total          28864129    416      -                    -       \n",
            "\n",
            "Setting up augmentation...\n",
            "Distributing across 1 GPUs...\n",
            "Setting up training phases...\n",
            "Exporting sample images...\n",
            "Initializing logs...\n",
            "Skipping tfevents export: No module named 'tensorboard'\n",
            "Training for 5000 kimg...\n",
            "\n",
            "tick 0     kimg 0.0      time 3m 33s       sec/tick 15.9    sec/kimg 497.80  maintenance 197.2  cpumem 5.65   gpumem 12.71  reserved 13.35  augment 0.000\n",
            "tick 1     kimg 10.0     time 56m 58s      sec/tick 3168.0  sec/kimg 316.30  maintenance 37.2   cpumem 5.68   gpumem 12.45  reserved 13.58  augment 0.000\n"
          ]
        }
      ]
    }
  ]
}