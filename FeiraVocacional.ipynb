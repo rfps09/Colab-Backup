{
  "nbformat": 4,
  "nbformat_minor": 0,
  "metadata": {
    "colab": {
      "provenance": [],
      "authorship_tag": "ABX9TyPPMTxuqtHESgGcda4QR7wU",
      "include_colab_link": true
    },
    "kernelspec": {
      "name": "python3",
      "display_name": "Python 3"
    },
    "language_info": {
      "name": "python"
    }
  },
  "cells": [
    {
      "cell_type": "markdown",
      "metadata": {
        "id": "view-in-github",
        "colab_type": "text"
      },
      "source": [
        "<a href=\"https://colab.research.google.com/github/rfps09/Colab-Backup/blob/main/FeiraVocacional.ipynb\" target=\"_parent\"><img src=\"https://colab.research.google.com/assets/colab-badge.svg\" alt=\"Open In Colab\"/></a>"
      ]
    },
    {
      "cell_type": "markdown",
      "source": [
        "Código para achar as raizes de uma equação do segundo grau"
      ],
      "metadata": {
        "id": "cqgM1pwORo0-"
      }
    },
    {
      "cell_type": "code",
      "execution_count": null,
      "metadata": {
        "colab": {
          "base_uri": "https://localhost:8080/"
        },
        "id": "WSypwlxBRT3K",
        "outputId": "f4dc9152-a6b2-4e29-e56b-5db2d16c8cd1"
      },
      "outputs": [
        {
          "output_type": "stream",
          "name": "stdout",
          "text": [
            "Insira o a: -4\n",
            "Insira o b: 8\n",
            "Insira o c: 0\n",
            "x1: 0.0\n",
            "x2: 2.0\n"
          ]
        }
      ],
      "source": [
        "import math\n",
        "\n",
        "a = int(input('Insira o a: '))\n",
        "b = int(input('Insira o b: '))\n",
        "c = int(input('Insira o c: '))\n",
        "\n",
        "if a != 0:\n",
        "  delta = b*b - (4*a*c)\n",
        "  if(delta >= 0):\n",
        "    x1 = (-b + math.sqrt(delta)) / (2*a) + 0\n",
        "    x2 = (-b - math.sqrt(delta)) / (2*a)\n",
        "  else:\n",
        "    x1 = 'Não possui raiz'\n",
        "    x2 = 'Não possui raiz'\n",
        "  print(f'x1: {x1}\\nx2: {x2}')\n",
        "else:\n",
        "  print('Não é função do segundo grau')"
      ]
    }
  ]
}